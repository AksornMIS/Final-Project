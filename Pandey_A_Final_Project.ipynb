{
 "cells": [
  {
   "cell_type": "markdown",
   "metadata": {},
   "source": [
    "Pandey.A \"On my honor, as a student, I have neither given nor received unauthorized aid on this academic work.\""
   ]
  },
  {
   "cell_type": "code",
   "execution_count": 1,
   "metadata": {},
   "outputs": [],
   "source": [
    "import pandas as pd\n",
    "import numpy as np\n",
    "%matplotlib inline\n",
    "import matplotlib.pyplot as plt\n",
    "import seaborn as sns\n",
    "from scipy import stats\n",
    "\n",
    "#regression packages\n",
    "import sklearn.linear_model as lm\n",
    "from sklearn.metrics import mean_squared_error\n",
    "from sklearn.metrics import explained_variance_score\n",
    "\n",
    "#lasso regression\n",
    "from sklearn import linear_model\n",
    "\n",
    "#f_regression (feature selection)\n",
    "from sklearn.feature_selection import f_regression\n",
    "from sklearn.feature_selection import SelectKBest\n",
    "\n",
    "# recursive feature selection (feature selection)\n",
    "from sklearn.feature_selection import RFE\n",
    "\n",
    "import statsmodels.api as sm\n",
    "from statsmodels.formula.api import ols\n",
    "\n",
    "#import decisiontreeclassifier\n",
    "from sklearn import tree\n",
    "from sklearn.tree import DecisionTreeClassifier\n",
    "\n",
    "#for validating your classification model\n",
    "from sklearn.model_selection import train_test_split\n",
    "from sklearn.model_selection import cross_val_score\n",
    "from sklearn import metrics\n",
    "from sklearn.metrics import roc_curve, auc\n",
    "\n",
    "#import knnclassifier\n",
    "from sklearn.neighbors import KNeighborsClassifier\n",
    "\n",
    "from sklearn.cluster import KMeans\n",
    "from sklearn.cluster import AgglomerativeClustering\n",
    "from sklearn.metrics import pairwise_distances\n",
    "from pandas.plotting import parallel_coordinates"
   ]
  },
  {
   "cell_type": "markdown",
   "metadata": {},
   "source": [
    "## Background\n",
    "- predict the success of a movie based on traits related to examples given to compare in the IMDB database.\n",
    "- data used to analyze the success of a movie would be: previous lead actor, budget, money spent on marketing, is the movie a sequel/prequel/original.\n",
    "- Facebook popularity of director and the top 3 actors in the movie, duration of the movie, and the number of faces on the posters"
   ]
  },
  {
   "cell_type": "markdown",
   "metadata": {},
   "source": [
    "### Collect data\n",
    "- Duration\n",
    "- Number of votes\n",
    "- Social media popularity of the movie\n",
    "- Social media popularity of the top three actors\n",
    "- Social media popularity of the director\n",
    "- Success of director's past movies\n",
    "- ROI ratio\n",
    "- Profit\n",
    "- Budget"
   ]
  },
  {
   "cell_type": "markdown",
   "metadata": {},
   "source": [
    "## What variables are highly correlated to imdb score?\n",
    "- Director's past success\n",
    "- Number of votes is highly correlated to IMDb score\n",
    "- Duration is highly correlated to a movie's success\n",
    "- Number of critics who reviewed the movie\n",
    "- Numbmer of users who reviewed the movie\n",
    "- Social Media popularity of the movie\n",
    "- Gross earnings\n",
    "- Social Media popularity of the director"
   ]
  },
  {
   "cell_type": "markdown",
   "metadata": {},
   "source": [
    "## Data Understanding"
   ]
  },
  {
   "cell_type": "code",
   "execution_count": 2,
   "metadata": {},
   "outputs": [],
   "source": [
    "#load the data\n",
    "df = pd.read_csv(\"movie_metadata.csv_movie_metadata.csv\")"
   ]
  },
  {
   "cell_type": "code",
   "execution_count": 5,
   "metadata": {
    "scrolled": true
   },
   "outputs": [
    {
     "name": "stdout",
     "output_type": "stream",
     "text": [
      "Index([u'color', u'director_name', u'num_critic_for_reviews', u'duration',\n",
      "       u'director_facebook_likes', u'actor_3_facebook_likes', u'actor_2_name',\n",
      "       u'actor_1_facebook_likes', u'gross', u'genres', u'actor_1_name',\n",
      "       u'movie_title', u'num_voted_users', u'cast_total_facebook_likes',\n",
      "       u'actor_3_name', u'facenumber_in_poster', u'plot_keywords',\n",
      "       u'movie_imdb_link', u'num_user_for_reviews', u'language', u'country',\n",
      "       u'content_rating', u'budget', u'title_year', u'actor_2_facebook_likes',\n",
      "       u'imdb_score', u'aspect_ratio', u'movie_facebook_likes'],\n",
      "      dtype='object')\n",
      "5043\n",
      "<class 'pandas.core.frame.DataFrame'>\n",
      "RangeIndex: 5043 entries, 0 to 5042\n",
      "Data columns (total 28 columns):\n",
      "color                        5024 non-null object\n",
      "director_name                4939 non-null object\n",
      "num_critic_for_reviews       4993 non-null float64\n",
      "duration                     5028 non-null float64\n",
      "director_facebook_likes      4939 non-null float64\n",
      "actor_3_facebook_likes       5020 non-null float64\n",
      "actor_2_name                 5030 non-null object\n",
      "actor_1_facebook_likes       5036 non-null float64\n",
      "gross                        4159 non-null float64\n",
      "genres                       5043 non-null object\n",
      "actor_1_name                 5036 non-null object\n",
      "movie_title                  5043 non-null object\n",
      "num_voted_users              5043 non-null int64\n",
      "cast_total_facebook_likes    5043 non-null int64\n",
      "actor_3_name                 5020 non-null object\n",
      "facenumber_in_poster         5030 non-null float64\n",
      "plot_keywords                4890 non-null object\n",
      "movie_imdb_link              5043 non-null object\n",
      "num_user_for_reviews         5022 non-null float64\n",
      "language                     5031 non-null object\n",
      "country                      5038 non-null object\n",
      "content_rating               4740 non-null object\n",
      "budget                       4551 non-null float64\n",
      "title_year                   4935 non-null float64\n",
      "actor_2_facebook_likes       5030 non-null float64\n",
      "imdb_score                   5043 non-null float64\n",
      "aspect_ratio                 4714 non-null float64\n",
      "movie_facebook_likes         5043 non-null int64\n",
      "dtypes: float64(13), int64(3), object(12)\n",
      "memory usage: 1.1+ MB\n",
      "None\n"
     ]
    }
   ],
   "source": [
    "# Check columns, data type\n",
    "print df.columns\n",
    "print len(df)\n",
    "print df.info()"
   ]
  },
  {
   "cell_type": "markdown",
   "metadata": {},
   "source": [
    "- Dataset contains 28 columns and has 5043 movies\n",
    "- Some movies have incomplete data\n",
    "- 4159 movies have gross profit, gross profit can determine how well a movie does\n",
    "- The movies without gross profit could be removed\n",
    "- all data are floats or objects, except for facebook likes\n",
    "- Objects data type will need to be converted to int by use of dummy variables as correlation cannot be done as catagorical data type\n",
    "- floats and objects and int64"
   ]
  },
  {
   "cell_type": "code",
   "execution_count": 7,
   "metadata": {},
   "outputs": [
    {
     "data": {
      "text/plain": [
       "color                         19\n",
       "director_name                104\n",
       "num_critic_for_reviews        50\n",
       "duration                      15\n",
       "director_facebook_likes      104\n",
       "actor_3_facebook_likes        23\n",
       "actor_2_name                  13\n",
       "actor_1_facebook_likes         7\n",
       "gross                        884\n",
       "genres                         0\n",
       "actor_1_name                   7\n",
       "movie_title                    0\n",
       "num_voted_users                0\n",
       "cast_total_facebook_likes      0\n",
       "actor_3_name                  23\n",
       "facenumber_in_poster          13\n",
       "plot_keywords                153\n",
       "movie_imdb_link                0\n",
       "num_user_for_reviews          21\n",
       "language                      12\n",
       "country                        5\n",
       "content_rating               303\n",
       "budget                       492\n",
       "title_year                   108\n",
       "actor_2_facebook_likes        13\n",
       "imdb_score                     0\n",
       "aspect_ratio                 329\n",
       "movie_facebook_likes           0\n",
       "dtype: int64"
      ]
     },
     "execution_count": 7,
     "metadata": {},
     "output_type": "execute_result"
    }
   ],
   "source": [
    "# Check for any missing values\n",
    "df.isnull().sum()"
   ]
  },
  {
   "cell_type": "markdown",
   "metadata": {},
   "source": [
    "### The data currently has a significant amount of missing values that could affect the accuracy of the rating prediction system.\n",
    "- Any rows with missing values will be removed.\n",
    "\n",
    "### Some new columns could be created to better analyze the data:\n",
    "- Top 3 actors' total Facebook likes combined into one column\n",
    "- ROI ratio = (profit/budget)\n",
    "- Proportionate average IMDb score for each director = total score for all movies made by that director / total movies made by that director\n",
    "\n",
    "### Columns can be removed to remove redundancy or extraneous/insignificant information:\n",
    "- actor 1 facebook likes\n",
    "- actor 2 facebook likes\n",
    "- actor 3 facebook likes\n",
    "- color\n",
    "- language\n",
    "- aspect ratio\n",
    "- movie imdb link\n",
    "- genres\n",
    "- plot keywords"
   ]
  },
  {
   "cell_type": "code",
   "execution_count": 8,
   "metadata": {},
   "outputs": [
    {
     "data": {
      "text/plain": [
       "imdb_score  movie_facebook_likes\n",
       "1.6         62000                   1\n",
       "1.7         0                       1\n",
       "1.9         0                       2\n",
       "            128                     1\n",
       "2.0         0                       1\n",
       "            446                     1\n",
       "2.1         0                       2\n",
       "            244                     1\n",
       "2.2         150                     1\n",
       "            353                     1\n",
       "            881                     1\n",
       "2.3         0                       1\n",
       "            724                     1\n",
       "            1000                    1\n",
       "2.4         0                       1\n",
       "            2000                    1\n",
       "2.5         0                       1\n",
       "            777                     1\n",
       "2.6         200                     1\n",
       "            2000                    1\n",
       "2.7         0                       3\n",
       "            115                     1\n",
       "            131                     1\n",
       "            806                     1\n",
       "2.8         0                       2\n",
       "            10                      1\n",
       "            236                     1\n",
       "            241                     1\n",
       "            297                     1\n",
       "            346                     1\n",
       "                                   ..\n",
       "8.6         349000                  1\n",
       "8.7         0                       3\n",
       "            25000                   2\n",
       "            8                       1\n",
       "            88                      1\n",
       "            459                     1\n",
       "            10000                   1\n",
       "            11000                   1\n",
       "            28000                   1\n",
       "            32000                   1\n",
       "            33000                   1\n",
       "8.8         0                       1\n",
       "            17000                   1\n",
       "            21000                   1\n",
       "            48000                   1\n",
       "            55000                   1\n",
       "            59000                   1\n",
       "            175000                  1\n",
       "8.9         16000                   1\n",
       "            20000                   1\n",
       "            40000                   1\n",
       "            41000                   1\n",
       "            45000                   1\n",
       "9.0         14000                   1\n",
       "            37000                   1\n",
       "            61000                   1\n",
       "9.1         0                       3\n",
       "9.2         43000                   1\n",
       "9.3         108000                  1\n",
       "9.5         0                       1\n",
       "Name: movie_facebook_likes, Length: 2362, dtype: int64"
      ]
     },
     "execution_count": 8,
     "metadata": {},
     "output_type": "execute_result"
    }
   ],
   "source": [
    "# Shows count of all movies in terms of movie facebook likes sorted by IMDb score\n",
    "df.groupby('imdb_score').movie_facebook_likes.value_counts()"
   ]
  },
  {
   "cell_type": "code",
   "execution_count": 10,
   "metadata": {},
   "outputs": [
    {
     "data": {
      "text/plain": [
       "imdb_score  duration\n",
       "1.6         115.0       1\n",
       "1.7         91.0        1\n",
       "1.9         88.0        2\n",
       "            97.0        1\n",
       "2.0         93.0        1\n",
       "            110.0       1\n",
       "2.1         90.0        1\n",
       "            95.0        1\n",
       "            104.0       1\n",
       "2.2         83.0        1\n",
       "            94.0        1\n",
       "            122.0       1\n",
       "2.3         93.0        1\n",
       "            94.0        1\n",
       "            95.0        1\n",
       "2.4         119.0       1\n",
       "            121.0       1\n",
       "2.5         93.0        1\n",
       "            97.0        1\n",
       "2.6         76.0        1\n",
       "            80.0        1\n",
       "2.7         82.0        1\n",
       "            85.0        1\n",
       "            86.0        1\n",
       "            96.0        1\n",
       "            100.0       1\n",
       "            140.0       1\n",
       "2.8         76.0        1\n",
       "            77.0        1\n",
       "            80.0        1\n",
       "                       ..\n",
       "8.7         44.0        1\n",
       "            55.0        1\n",
       "            78.0        1\n",
       "            87.0        1\n",
       "            125.0       1\n",
       "            133.0       1\n",
       "            136.0       1\n",
       "            146.0       1\n",
       "            172.0       1\n",
       "            202.0       1\n",
       "8.8         22.0        1\n",
       "            54.0        1\n",
       "            127.0       1\n",
       "            142.0       1\n",
       "            148.0       1\n",
       "            151.0       1\n",
       "            171.0       1\n",
       "8.9         96.0        1\n",
       "            142.0       1\n",
       "            178.0       1\n",
       "            185.0       1\n",
       "            192.0       1\n",
       "9.0         53.0        1\n",
       "            152.0       1\n",
       "            220.0       1\n",
       "9.1         55.0        2\n",
       "            90.0        1\n",
       "9.2         175.0       1\n",
       "9.3         142.0       1\n",
       "9.5         65.0        1\n",
       "Name: duration, Length: 2312, dtype: int64"
      ]
     },
     "execution_count": 10,
     "metadata": {},
     "output_type": "execute_result"
    }
   ],
   "source": [
    "# Shows count of all movies in terms of duration, sorted by IMDb score.\n",
    "df.groupby('imdb_score')['duration'].value_counts()"
   ]
  },
  {
   "cell_type": "code",
   "execution_count": 11,
   "metadata": {},
   "outputs": [
    {
     "data": {
      "text/plain": [
       "imdb_score  gross      \n",
       "1.6         73000942.0     1\n",
       "1.9         9109322.0      1\n",
       "            14174654.0     1\n",
       "2.0         5694308.0      1\n",
       "2.1         4273372.0      1\n",
       "            4922166.0      1\n",
       "            7009668.0      1\n",
       "2.2         17010646.0     1\n",
       "2.3         306715.0       1\n",
       "            5132655.0      1\n",
       "            39737645.0     1\n",
       "2.4         5660084.0      1\n",
       "            21471685.0     1\n",
       "2.5         27141959.0     1\n",
       "2.7         3713002.0      1\n",
       "            9353573.0      1\n",
       "            38232624.0     1\n",
       "            48546578.0     1\n",
       "2.8         1646664.0      1\n",
       "            1686429.0      1\n",
       "            7382993.0      1\n",
       "            11144518.0     1\n",
       "            20763013.0     1\n",
       "2.9         1550000.0      1\n",
       "            13235267.0     1\n",
       "3.0         2315683.0      1\n",
       "            7059537.0      1\n",
       "            18990542.0     1\n",
       "3.1         13998282.0     2\n",
       "            4131640.0      1\n",
       "                          ..\n",
       "8.5         448130642.0    1\n",
       "8.6         163245.0       1\n",
       "            6712241.0      1\n",
       "            10049886.0     1\n",
       "            23272306.0     1\n",
       "            100125340.0    1\n",
       "            130727000.0    1\n",
       "            187991439.0    1\n",
       "            216119491.0    1\n",
       "8.7         269061.0       1\n",
       "            7563397.0      1\n",
       "            46836394.0     1\n",
       "            112000000.0    1\n",
       "            171383253.0    1\n",
       "            340478898.0    1\n",
       "            460935665.0    1\n",
       "8.8         37023395.0     1\n",
       "            290158751.0    1\n",
       "            292568851.0    1\n",
       "            313837577.0    1\n",
       "            329691196.0    1\n",
       "8.9         6100000.0      1\n",
       "            96067179.0     1\n",
       "            107930000.0    1\n",
       "            377019252.0    1\n",
       "9.0         57300000.0     1\n",
       "            533316061.0    1\n",
       "9.1         447093.0       2\n",
       "9.2         134821952.0    1\n",
       "9.3         28341469.0     1\n",
       "Name: gross, Length: 4055, dtype: int64"
      ]
     },
     "execution_count": 11,
     "metadata": {},
     "output_type": "execute_result"
    }
   ],
   "source": [
    "# The amount of gross value, sorted by IMDb rating\n",
    "df.groupby('imdb_score').gross.value_counts()"
   ]
  },
  {
   "cell_type": "markdown",
   "metadata": {},
   "source": [
    "## Data Preparation"
   ]
  },
  {
   "cell_type": "code",
   "execution_count": 13,
   "metadata": {},
   "outputs": [],
   "source": [
    "# Remove missing values\n",
    "dropped = df.dropna()"
   ]
  },
  {
   "cell_type": "code",
   "execution_count": 14,
   "metadata": {},
   "outputs": [],
   "source": [
    "# Organize the ratings\n",
    "cleaned = dropped.replace({'content_rating': 'M'},{'content_rating': 'PG'})\n",
    "cleaned = cleaned.replace({'content_rating': 'GP'},{'content_rating': 'PG'})\n",
    "cleaned = cleaned.replace({'content_rating': 'X'},{'content_rating': 'NC-17'})\n",
    "\n",
    "cleaned = cleaned.replace({'content_rating': 'Approved'},{'content_rating': 'R'})\n",
    "cleaned = cleaned.replace({'content_rating': 'Not Rated'},{'content_rating': 'R'})\n",
    "cleaned = cleaned.replace({'content_rating': 'Passed'},{'content_rating': 'R'})\n",
    "cleaned = cleaned.replace({'content_rating': 'Unrated'},{'content_rating': 'R'})"
   ]
  },
  {
   "cell_type": "code",
   "execution_count": 15,
   "metadata": {},
   "outputs": [
    {
     "data": {
      "text/plain": [
       "array(['PG-13', 'PG', 'G', 'R', 'NC-17'], dtype=object)"
      ]
     },
     "execution_count": 15,
     "metadata": {},
     "output_type": "execute_result"
    }
   ],
   "source": [
    "# Check \n",
    "cleaned.content_rating.unique()"
   ]
  },
  {
   "cell_type": "code",
   "execution_count": 16,
   "metadata": {},
   "outputs": [],
   "source": [
    "# Drop insignificant variable\n",
    "df1 = cleaned.drop(['color','language','aspect_ratio', 'movie_imdb_link', 'genres', 'plot_keywords', 'actor_1_facebook_likes', 'actor_2_facebook_likes','actor_3_facebook_likes'], axis=1)"
   ]
  },
  {
   "cell_type": "code",
   "execution_count": 17,
   "metadata": {},
   "outputs": [],
   "source": [
    "# Create a profit column\n",
    "df1['profit'] = df1.gross - df1.budget"
   ]
  },
  {
   "cell_type": "code",
   "execution_count": 18,
   "metadata": {},
   "outputs": [
    {
     "name": "stdout",
     "output_type": "stream",
     "text": [
      "<class 'pandas.core.frame.DataFrame'>\n",
      "Int64Index: 3756 entries, 0 to 5042\n",
      "Data columns (total 20 columns):\n",
      "director_name                3756 non-null object\n",
      "num_critic_for_reviews       3756 non-null float64\n",
      "duration                     3756 non-null float64\n",
      "director_facebook_likes      3756 non-null float64\n",
      "actor_2_name                 3756 non-null object\n",
      "gross                        3756 non-null float64\n",
      "actor_1_name                 3756 non-null object\n",
      "movie_title                  3756 non-null object\n",
      "num_voted_users              3756 non-null int64\n",
      "cast_total_facebook_likes    3756 non-null int64\n",
      "actor_3_name                 3756 non-null object\n",
      "facenumber_in_poster         3756 non-null float64\n",
      "num_user_for_reviews         3756 non-null float64\n",
      "country                      3756 non-null object\n",
      "content_rating               3756 non-null object\n",
      "budget                       3756 non-null float64\n",
      "title_year                   3756 non-null float64\n",
      "imdb_score                   3756 non-null float64\n",
      "movie_facebook_likes         3756 non-null int64\n",
      "profit                       3756 non-null float64\n",
      "dtypes: float64(10), int64(3), object(7)\n",
      "memory usage: 616.2+ KB\n"
     ]
    }
   ],
   "source": [
    "# Check that all columns were created/removed/changed appropriately\n",
    "df1.info()"
   ]
  },
  {
   "cell_type": "markdown",
   "metadata": {},
   "source": [
    "## Data Visualization"
   ]
  },
  {
   "cell_type": "code",
   "execution_count": 19,
   "metadata": {},
   "outputs": [
    {
     "data": {
      "text/plain": [
       "<matplotlib.axes._subplots.AxesSubplot at 0xe3efe80>"
      ]
     },
     "execution_count": 19,
     "metadata": {},
     "output_type": "execute_result"
    },
    {
     "data": {
      "image/png": "[encoded data removed]",
      "text/plain": [
       "<Figure size 432x288 with 1 Axes>"
      ]
     },
     "metadata": {},
     "output_type": "display_data"
    }
   ],
   "source": [
    "#scatter plot to show relationship between movie facebook likes and the IMDB score\n",
    "df1.plot.scatter(x='movie_facebook_likes', y='imdb_score')"
   ]
  },
  {
   "cell_type": "markdown",
   "metadata": {},
   "source": [
    "Higher imdb score has higher number of movie facbook likes"
   ]
  },
  {
   "cell_type": "code",
   "execution_count": 20,
   "metadata": {},
   "outputs": [
    {
     "data": {
      "text/plain": [
       "<seaborn.axisgrid.FacetGrid at 0xf9a2e48>"
      ]
     },
     "execution_count": 20,
     "metadata": {},
     "output_type": "execute_result"
    },
    {
     "data": {
      "image/png": "[encoded data removed]",
      "text/plain": [
       "<Figure size 1800x360 with 5 Axes>"
      ]
     },
     "metadata": {},
     "output_type": "display_data"
    }
   ],
   "source": [
    "#compares relationship between movie facebook likes to IMDB score separate by the content ratings\n",
    "sns.lmplot(\"movie_facebook_likes\", \"imdb_score\", df1, col=\"content_rating\", hue=\"content_rating\", x_jitter=.15, size=5)"
   ]
  },
  {
   "cell_type": "markdown",
   "metadata": {},
   "source": [
    "NC-17 movies has a wide range for possible likes with imdb score. Content rating R the amount of likes does not effect the imdb score much, similar trend is also seen for PG-13 and PG"
   ]
  },
  {
   "cell_type": "code",
   "execution_count": 21,
   "metadata": {},
   "outputs": [
    {
     "data": {
      "text/plain": [
       "<matplotlib.axes._subplots.AxesSubplot at 0xfdf5400>"
      ]
     },
     "execution_count": 21,
     "metadata": {},
     "output_type": "execute_result"
    },
    {
     "data": {
      "image/png": "[encoded data removed]",
      "text/plain": [
       "<Figure size 432x288 with 1 Axes>"
      ]
     },
     "metadata": {},
     "output_type": "display_data"
    }
   ],
   "source": [
    "#scatter plot to show relationship between duration and the IMDB score\n",
    "df1.plot.scatter(x='duration', y='imdb_score')"
   ]
  },
  {
   "cell_type": "markdown",
   "metadata": {},
   "source": [
    "There is more of a cluster between the relationship between imdb score and the duration of the movie. There is indication that the longer the movie the higher the imdb score"
   ]
  },
  {
   "cell_type": "code",
   "execution_count": 23,
   "metadata": {},
   "outputs": [
    {
     "data": {
      "text/plain": [
       "<seaborn.axisgrid.FacetGrid at 0xf9a2be0>"
      ]
     },
     "execution_count": 23,
     "metadata": {},
     "output_type": "execute_result"
    },
    {
     "data": {
      "image/png": "[encoded data removed]",
      "text/plain": [
       "<Figure size 1800x360 with 5 Axes>"
      ]
     },
     "metadata": {},
     "output_type": "display_data"
    }
   ],
   "source": [
    "#compares relationship between duration to IMDB score separate by the content ratings\n",
    "sns.lmplot(\"duration\", \"imdb_score\", df1, col=\"content_rating\", hue=\"content_rating\", x_jitter=.15, size=5)"
   ]
  },
  {
   "cell_type": "markdown",
   "metadata": {},
   "source": [
    "see more of the relationship between imdb score and duration NC-17 rating is the category with negative relationship a weak realtionship for G rated movies; suited for children, have short attention span content rating R have more movies with longer duration"
   ]
  },
  {
   "cell_type": "code",
   "execution_count": 24,
   "metadata": {},
   "outputs": [
    {
     "data": {
      "text/plain": [
       "<matplotlib.axes._subplots.AxesSubplot at 0x10895be0>"
      ]
     },
     "execution_count": 24,
     "metadata": {},
     "output_type": "execute_result"
    },
    {
     "data": {
      "image/png": "[encoded data removed]",
      "text/plain": [
       "<Figure size 432x288 with 1 Axes>"
      ]
     },
     "metadata": {},
     "output_type": "display_data"
    }
   ],
   "source": [
    "#scatter plot to show relationship between gross profit and the IMDB score\n",
    "df1.plot.scatter(x='gross', y='imdb_score')"
   ]
  },
  {
   "cell_type": "markdown",
   "metadata": {},
   "source": [
    "Higher imdb score has higher amount of gross profit"
   ]
  },
  {
   "cell_type": "code",
   "execution_count": 25,
   "metadata": {},
   "outputs": [
    {
     "data": {
      "text/plain": [
       "<seaborn.axisgrid.FacetGrid at 0x10867048>"
      ]
     },
     "execution_count": 25,
     "metadata": {},
     "output_type": "execute_result"
    },
    {
     "data": {
      "image/png": "[encoded data removed]",
      "text/plain": [
       "<Figure size 1800x360 with 5 Axes>"
      ]
     },
     "metadata": {},
     "output_type": "display_data"
    }
   ],
   "source": [
    "#compares relationship between gross profit to IMDB score separate by the content ratings\n",
    "sns.lmplot(\"gross\", \"imdb_score\", df1, col=\"content_rating\", hue=\"content_rating\", x_jitter=.15, size=5)"
   ]
  },
  {
   "cell_type": "markdown",
   "metadata": {},
   "source": [
    "There is a positive relationship between imdb score and gross profit. For each content rating the higher imdb score the gross profit increases. However, in the case for the content rating NC-17 has a wider range for unpredictable result."
   ]
  },
  {
   "cell_type": "markdown",
   "metadata": {},
   "source": [
    "## Correlation Analysis"
   ]
  },
  {
   "cell_type": "code",
   "execution_count": 38,
   "metadata": {},
   "outputs": [],
   "source": [
    "# Change content rating column from object to numeric\n",
    "conr= pd.get_dummies(df1['content_rating'],prefix='content_rating')\n",
    "df1= df1.join(conr)"
   ]
  },
  {
   "cell_type": "code",
   "execution_count": 41,
   "metadata": {},
   "outputs": [],
   "source": [
    "df1_corr = df_corr.drop(['director_name', 'actor_1_name', 'actor_2_name', 'actor_3_name', 'movie_title', 'country'], axis=1)"
   ]
  },
  {
   "cell_type": "code",
   "execution_count": 43,
   "metadata": {
    "scrolled": false
   },
   "outputs": [
    {
     "data": {
      "text/html": [
       "<div>\n",
       "<style scoped>\n",
       "    .dataframe tbody tr th:only-of-type {\n",
       "        vertical-align: middle;\n",
       "    }\n",
       "\n",
       "    .dataframe tbody tr th {\n",
       "        vertical-align: top;\n",
       "    }\n",
       "\n",
       "    .dataframe thead th {\n",
       "        text-align: right;\n",
       "    }\n",
       "</style>\n",
       "<table border=\"1\" class=\"dataframe\">\n",
       "  <thead>\n",
       "    <tr style=\"text-align: right;\">\n",
       "      <th></th>\n",
       "      <th>num_critic_for_reviews</th>\n",
       "      <th>duration</th>\n",
       "      <th>director_facebook_likes</th>\n",
       "      <th>gross</th>\n",
       "      <th>num_voted_users</th>\n",
       "      <th>cast_total_facebook_likes</th>\n",
       "      <th>facenumber_in_poster</th>\n",
       "      <th>num_user_for_reviews</th>\n",
       "      <th>content_rating</th>\n",
       "      <th>budget</th>\n",
       "      <th>title_year</th>\n",
       "      <th>imdb_score</th>\n",
       "      <th>movie_facebook_likes</th>\n",
       "      <th>profit</th>\n",
       "    </tr>\n",
       "  </thead>\n",
       "  <tbody>\n",
       "    <tr>\n",
       "      <th>num_critic_for_reviews</th>\n",
       "      <td>1.000000</td>\n",
       "      <td>0.228631</td>\n",
       "      <td>0.175128</td>\n",
       "      <td>0.464187</td>\n",
       "      <td>0.592473</td>\n",
       "      <td>0.236533</td>\n",
       "      <td>-0.034365</td>\n",
       "      <td>0.563684</td>\n",
       "      <td>0.069851</td>\n",
       "      <td>0.104717</td>\n",
       "      <td>0.420202</td>\n",
       "      <td>0.347886</td>\n",
       "      <td>0.705226</td>\n",
       "      <td>0.039029</td>\n",
       "    </tr>\n",
       "    <tr>\n",
       "      <th>duration</th>\n",
       "      <td>0.228631</td>\n",
       "      <td>1.000000</td>\n",
       "      <td>0.180644</td>\n",
       "      <td>0.245726</td>\n",
       "      <td>0.339592</td>\n",
       "      <td>0.120179</td>\n",
       "      <td>0.026919</td>\n",
       "      <td>0.351595</td>\n",
       "      <td>0.090448</td>\n",
       "      <td>0.068012</td>\n",
       "      <td>-0.130211</td>\n",
       "      <td>0.366221</td>\n",
       "      <td>0.215303</td>\n",
       "      <td>0.008296</td>\n",
       "    </tr>\n",
       "    <tr>\n",
       "      <th>director_facebook_likes</th>\n",
       "      <td>0.175128</td>\n",
       "      <td>0.180644</td>\n",
       "      <td>1.000000</td>\n",
       "      <td>0.138351</td>\n",
       "      <td>0.299624</td>\n",
       "      <td>0.118547</td>\n",
       "      <td>-0.048067</td>\n",
       "      <td>0.217103</td>\n",
       "      <td>0.012837</td>\n",
       "      <td>0.018167</td>\n",
       "      <td>-0.044656</td>\n",
       "      <td>0.192314</td>\n",
       "      <td>0.161962</td>\n",
       "      <td>0.024455</td>\n",
       "    </tr>\n",
       "    <tr>\n",
       "      <th>gross</th>\n",
       "      <td>0.464187</td>\n",
       "      <td>0.245726</td>\n",
       "      <td>0.138351</td>\n",
       "      <td>1.000000</td>\n",
       "      <td>0.624949</td>\n",
       "      <td>0.235601</td>\n",
       "      <td>-0.032025</td>\n",
       "      <td>0.544674</td>\n",
       "      <td>-0.276183</td>\n",
       "      <td>0.099496</td>\n",
       "      <td>0.054808</td>\n",
       "      <td>0.214740</td>\n",
       "      <td>0.366933</td>\n",
       "      <td>0.208033</td>\n",
       "    </tr>\n",
       "    <tr>\n",
       "      <th>num_voted_users</th>\n",
       "      <td>0.592473</td>\n",
       "      <td>0.339592</td>\n",
       "      <td>0.299624</td>\n",
       "      <td>0.624949</td>\n",
       "      <td>1.000000</td>\n",
       "      <td>0.249119</td>\n",
       "      <td>-0.032209</td>\n",
       "      <td>0.778881</td>\n",
       "      <td>0.007462</td>\n",
       "      <td>0.065927</td>\n",
       "      <td>0.023687</td>\n",
       "      <td>0.482430</td>\n",
       "      <td>0.517751</td>\n",
       "      <td>0.126327</td>\n",
       "    </tr>\n",
       "    <tr>\n",
       "      <th>cast_total_facebook_likes</th>\n",
       "      <td>0.236533</td>\n",
       "      <td>0.120179</td>\n",
       "      <td>0.118547</td>\n",
       "      <td>0.235601</td>\n",
       "      <td>0.249119</td>\n",
       "      <td>1.000000</td>\n",
       "      <td>0.080687</td>\n",
       "      <td>0.178675</td>\n",
       "      <td>-0.009827</td>\n",
       "      <td>0.028682</td>\n",
       "      <td>0.127045</td>\n",
       "      <td>0.106803</td>\n",
       "      <td>0.205564</td>\n",
       "      <td>0.043862</td>\n",
       "    </tr>\n",
       "    <tr>\n",
       "      <th>facenumber_in_poster</th>\n",
       "      <td>-0.034365</td>\n",
       "      <td>0.026919</td>\n",
       "      <td>-0.048067</td>\n",
       "      <td>-0.032025</td>\n",
       "      <td>-0.032209</td>\n",
       "      <td>0.080687</td>\n",
       "      <td>1.000000</td>\n",
       "      <td>-0.080971</td>\n",
       "      <td>0.017135</td>\n",
       "      <td>-0.021673</td>\n",
       "      <td>0.070093</td>\n",
       "      <td>-0.065493</td>\n",
       "      <td>0.015185</td>\n",
       "      <td>0.011510</td>\n",
       "    </tr>\n",
       "    <tr>\n",
       "      <th>num_user_for_reviews</th>\n",
       "      <td>0.563684</td>\n",
       "      <td>0.351595</td>\n",
       "      <td>0.217103</td>\n",
       "      <td>0.544674</td>\n",
       "      <td>0.778881</td>\n",
       "      <td>0.178675</td>\n",
       "      <td>-0.080971</td>\n",
       "      <td>1.000000</td>\n",
       "      <td>0.045573</td>\n",
       "      <td>0.070372</td>\n",
       "      <td>0.019470</td>\n",
       "      <td>0.325003</td>\n",
       "      <td>0.370465</td>\n",
       "      <td>0.097406</td>\n",
       "    </tr>\n",
       "    <tr>\n",
       "      <th>content_rating</th>\n",
       "      <td>0.069851</td>\n",
       "      <td>0.090448</td>\n",
       "      <td>0.012837</td>\n",
       "      <td>-0.276183</td>\n",
       "      <td>0.007462</td>\n",
       "      <td>-0.009827</td>\n",
       "      <td>0.017135</td>\n",
       "      <td>0.045573</td>\n",
       "      <td>1.000000</td>\n",
       "      <td>-0.035209</td>\n",
       "      <td>-0.014291</td>\n",
       "      <td>0.133825</td>\n",
       "      <td>0.011394</td>\n",
       "      <td>-0.049856</td>\n",
       "    </tr>\n",
       "    <tr>\n",
       "      <th>budget</th>\n",
       "      <td>0.104717</td>\n",
       "      <td>0.068012</td>\n",
       "      <td>0.018167</td>\n",
       "      <td>0.099496</td>\n",
       "      <td>0.065927</td>\n",
       "      <td>0.028682</td>\n",
       "      <td>-0.021673</td>\n",
       "      <td>0.070372</td>\n",
       "      <td>-0.035209</td>\n",
       "      <td>1.000000</td>\n",
       "      <td>0.047138</td>\n",
       "      <td>0.029190</td>\n",
       "      <td>0.052490</td>\n",
       "      <td>-0.952570</td>\n",
       "    </tr>\n",
       "    <tr>\n",
       "      <th>title_year</th>\n",
       "      <td>0.420202</td>\n",
       "      <td>-0.130211</td>\n",
       "      <td>-0.044656</td>\n",
       "      <td>0.054808</td>\n",
       "      <td>0.023687</td>\n",
       "      <td>0.127045</td>\n",
       "      <td>0.070093</td>\n",
       "      <td>0.019470</td>\n",
       "      <td>-0.014291</td>\n",
       "      <td>0.047138</td>\n",
       "      <td>1.000000</td>\n",
       "      <td>-0.134982</td>\n",
       "      <td>0.306987</td>\n",
       "      <td>-0.029575</td>\n",
       "    </tr>\n",
       "    <tr>\n",
       "      <th>imdb_score</th>\n",
       "      <td>0.347886</td>\n",
       "      <td>0.366221</td>\n",
       "      <td>0.192314</td>\n",
       "      <td>0.214740</td>\n",
       "      <td>0.482430</td>\n",
       "      <td>0.106803</td>\n",
       "      <td>-0.065493</td>\n",
       "      <td>0.325003</td>\n",
       "      <td>0.133825</td>\n",
       "      <td>0.029190</td>\n",
       "      <td>-0.134982</td>\n",
       "      <td>1.000000</td>\n",
       "      <td>0.281155</td>\n",
       "      <td>0.036982</td>\n",
       "    </tr>\n",
       "    <tr>\n",
       "      <th>movie_facebook_likes</th>\n",
       "      <td>0.705226</td>\n",
       "      <td>0.215303</td>\n",
       "      <td>0.161962</td>\n",
       "      <td>0.366933</td>\n",
       "      <td>0.517751</td>\n",
       "      <td>0.205564</td>\n",
       "      <td>0.015185</td>\n",
       "      <td>0.370465</td>\n",
       "      <td>0.011394</td>\n",
       "      <td>0.052490</td>\n",
       "      <td>0.306987</td>\n",
       "      <td>0.281155</td>\n",
       "      <td>1.000000</td>\n",
       "      <td>0.060624</td>\n",
       "    </tr>\n",
       "    <tr>\n",
       "      <th>profit</th>\n",
       "      <td>0.039029</td>\n",
       "      <td>0.008296</td>\n",
       "      <td>0.024455</td>\n",
       "      <td>0.208033</td>\n",
       "      <td>0.126327</td>\n",
       "      <td>0.043862</td>\n",
       "      <td>0.011510</td>\n",
       "      <td>0.097406</td>\n",
       "      <td>-0.049856</td>\n",
       "      <td>-0.952570</td>\n",
       "      <td>-0.029575</td>\n",
       "      <td>0.036982</td>\n",
       "      <td>0.060624</td>\n",
       "      <td>1.000000</td>\n",
       "    </tr>\n",
       "  </tbody>\n",
       "</table>\n",
       "</div>"
      ],
      "text/plain": [
       "                           num_critic_for_reviews  duration  \\\n",
       "num_critic_for_reviews                   1.000000  0.228631   \n",
       "duration                                 0.228631  1.000000   \n",
       "director_facebook_likes                  0.175128  0.180644   \n",
       "gross                                    0.464187  0.245726   \n",
       "num_voted_users                          0.592473  0.339592   \n",
       "cast_total_facebook_likes                0.236533  0.120179   \n",
       "facenumber_in_poster                    -0.034365  0.026919   \n",
       "num_user_for_reviews                     0.563684  0.351595   \n",
       "content_rating                           0.069851  0.090448   \n",
       "budget                                   0.104717  0.068012   \n",
       "title_year                               0.420202 -0.130211   \n",
       "imdb_score                               0.347886  0.366221   \n",
       "movie_facebook_likes                     0.705226  0.215303   \n",
       "profit                                   0.039029  0.008296   \n",
       "\n",
       "                           director_facebook_likes     gross  num_voted_users  \\\n",
       "num_critic_for_reviews                    0.175128  0.464187         0.592473   \n",
       "duration                                  0.180644  0.245726         0.339592   \n",
       "director_facebook_likes                   1.000000  0.138351         0.299624   \n",
       "gross                                     0.138351  1.000000         0.624949   \n",
       "num_voted_users                           0.299624  0.624949         1.000000   \n",
       "cast_total_facebook_likes                 0.118547  0.235601         0.249119   \n",
       "facenumber_in_poster                     -0.048067 -0.032025        -0.032209   \n",
       "num_user_for_reviews                      0.217103  0.544674         0.778881   \n",
       "content_rating                            0.012837 -0.276183         0.007462   \n",
       "budget                                    0.018167  0.099496         0.065927   \n",
       "title_year                               -0.044656  0.054808         0.023687   \n",
       "imdb_score                                0.192314  0.214740         0.482430   \n",
       "movie_facebook_likes                      0.161962  0.366933         0.517751   \n",
       "profit                                    0.024455  0.208033         0.126327   \n",
       "\n",
       "                           cast_total_facebook_likes  facenumber_in_poster  \\\n",
       "num_critic_for_reviews                      0.236533             -0.034365   \n",
       "duration                                    0.120179              0.026919   \n",
       "director_facebook_likes                     0.118547             -0.048067   \n",
       "gross                                       0.235601             -0.032025   \n",
       "num_voted_users                             0.249119             -0.032209   \n",
       "cast_total_facebook_likes                   1.000000              0.080687   \n",
       "facenumber_in_poster                        0.080687              1.000000   \n",
       "num_user_for_reviews                        0.178675             -0.080971   \n",
       "content_rating                             -0.009827              0.017135   \n",
       "budget                                      0.028682             -0.021673   \n",
       "title_year                                  0.127045              0.070093   \n",
       "imdb_score                                  0.106803             -0.065493   \n",
       "movie_facebook_likes                        0.205564              0.015185   \n",
       "profit                                      0.043862              0.011510   \n",
       "\n",
       "                           num_user_for_reviews  content_rating    budget  \\\n",
       "num_critic_for_reviews                 0.563684        0.069851  0.104717   \n",
       "duration                               0.351595        0.090448  0.068012   \n",
       "director_facebook_likes                0.217103        0.012837  0.018167   \n",
       "gross                                  0.544674       -0.276183  0.099496   \n",
       "num_voted_users                        0.778881        0.007462  0.065927   \n",
       "cast_total_facebook_likes              0.178675       -0.009827  0.028682   \n",
       "facenumber_in_poster                  -0.080971        0.017135 -0.021673   \n",
       "num_user_for_reviews                   1.000000        0.045573  0.070372   \n",
       "content_rating                         0.045573        1.000000 -0.035209   \n",
       "budget                                 0.070372       -0.035209  1.000000   \n",
       "title_year                             0.019470       -0.014291  0.047138   \n",
       "imdb_score                             0.325003        0.133825  0.029190   \n",
       "movie_facebook_likes                   0.370465        0.011394  0.052490   \n",
       "profit                                 0.097406       -0.049856 -0.952570   \n",
       "\n",
       "                           title_year  imdb_score  movie_facebook_likes  \\\n",
       "num_critic_for_reviews       0.420202    0.347886              0.705226   \n",
       "duration                    -0.130211    0.366221              0.215303   \n",
       "director_facebook_likes     -0.044656    0.192314              0.161962   \n",
       "gross                        0.054808    0.214740              0.366933   \n",
       "num_voted_users              0.023687    0.482430              0.517751   \n",
       "cast_total_facebook_likes    0.127045    0.106803              0.205564   \n",
       "facenumber_in_poster         0.070093   -0.065493              0.015185   \n",
       "num_user_for_reviews         0.019470    0.325003              0.370465   \n",
       "content_rating              -0.014291    0.133825              0.011394   \n",
       "budget                       0.047138    0.029190              0.052490   \n",
       "title_year                   1.000000   -0.134982              0.306987   \n",
       "imdb_score                  -0.134982    1.000000              0.281155   \n",
       "movie_facebook_likes         0.306987    0.281155              1.000000   \n",
       "profit                      -0.029575    0.036982              0.060624   \n",
       "\n",
       "                             profit  \n",
       "num_critic_for_reviews     0.039029  \n",
       "duration                   0.008296  \n",
       "director_facebook_likes    0.024455  \n",
       "gross                      0.208033  \n",
       "num_voted_users            0.126327  \n",
       "cast_total_facebook_likes  0.043862  \n",
       "facenumber_in_poster       0.011510  \n",
       "num_user_for_reviews       0.097406  \n",
       "content_rating            -0.049856  \n",
       "budget                    -0.952570  \n",
       "title_year                -0.029575  \n",
       "imdb_score                 0.036982  \n",
       "movie_facebook_likes       0.060624  \n",
       "profit                     1.000000  "
      ]
     },
     "execution_count": 43,
     "metadata": {},
     "output_type": "execute_result"
    }
   ],
   "source": [
    "#test correlation\n",
    "df1_corr.corr()"
   ]
  },
  {
   "cell_type": "code",
   "execution_count": 34,
   "metadata": {},
   "outputs": [
    {
     "data": {
      "text/plain": [
       "<matplotlib.axes._subplots.AxesSubplot at 0x1228c6a0>"
      ]
     },
     "execution_count": 34,
     "metadata": {},
     "output_type": "execute_result"
    },
    {
     "data": {
      "image/png": "[encoded data removed]",
      "text/plain": [
       "<Figure size 720x720 with 2 Axes>"
      ]
     },
     "metadata": {},
     "output_type": "display_data"
    }
   ],
   "source": [
    "# Correlation heatmap\n",
    "plt.figure(figsize=(10,10))\n",
    "sns.heatmap(df1_corr.corr(), annot=True, fmt=\".2f\", cmap='bone')"
   ]
  },
  {
   "cell_type": "markdown",
   "metadata": {},
   "source": [
    "Notable variable being the one with high correlation to imdb score are\n",
    "duration\n",
    "gross\n",
    "- duration - 0.37\n",
    "- director_facebook_likes - 0.19\n",
    "- gross - 0.21\n",
    "- num_voted_users - 0.48\n",
    "- cast_total_facebook_likes - 0.11\n",
    "- num_user_for_reviews - 0.33\n",
    "- movie_facebook_likes - 0.28\n",
    "- content_rating_R - 0.17\n",
    "\n",
    "\n",
    "are the most correlated with imdb score"
   ]
  },
  {
   "cell_type": "code",
   "execution_count": 46,
   "metadata": {},
   "outputs": [],
   "source": [
    "df_corr.drop\n",
    "df1_corr = df_corr.drop([ 'profit', 'budget', 'facenumber_in_poster', 'title_year', 'content_rating', 'cast_total_facebook_likes'], axis=1)"
   ]
  },
  {
   "cell_type": "code",
   "execution_count": 47,
   "metadata": {},
   "outputs": [
    {
     "data": {
      "text/plain": [
       "<matplotlib.axes._subplots.AxesSubplot at 0x13c08668>"
      ]
     },
     "execution_count": 47,
     "metadata": {},
     "output_type": "execute_result"
    },
    {
     "data": {
      "image/png": "[encoded data removed]",
      "text/plain": [
       "<Figure size 720x720 with 2 Axes>"
      ]
     },
     "metadata": {},
     "output_type": "display_data"
    }
   ],
   "source": [
    "# Correlation heatmap\n",
    "plt.figure(figsize=(10,10))\n",
    "sns.heatmap(df1_corr.corr(), annot=True, fmt=\".2f\", cmap='bone')"
   ]
  },
  {
   "cell_type": "markdown",
   "metadata": {},
   "source": [
    "Further correlation by heatmap shows the top correlating factor when determining success of a movie\n",
    "- num_voted_user are at 0.48\n",
    "- duration are at 0.37\n",
    "- num_user_for_review are at 0.33\n",
    "- movie_facebook_likes are at 0.28\n",
    "- gorss are at 0.21\n",
    "- director_facebook_likes are at 0.19\n",
    "- content_rating_R are at 0.17\n",
    "- cast_total_facebook_likes are at 0.11"
   ]
  },
  {
   "cell_type": "markdown",
   "metadata": {},
   "source": [
    "## Storytelling"
   ]
  },
  {
   "cell_type": "markdown",
   "metadata": {},
   "source": [
    "There are many factors that goes into predicting the success of a movie. The higest correlation of a movie's success is dependent upon number of voted users, duration of the momvie, and number of user that leaves reviews. \n",
    "\n",
    "The movies with longer duration with R rated content have more success than a longer duration movie with G rated content; they are not a big influence effecting the IMDB score. \n",
    "\n",
    "The more the movie gain in popularity in the form of votes, revies and likes on facebook greatly influences the potential of a movies to be a success. \n",
    "\n",
    "However, from the correlation analysis it appears that the profit for a moves does not correlate to the success of a movie; this applies to all movies regardless of big or small budget. "
   ]
  },
  {
   "cell_type": "markdown",
   "metadata": {},
   "source": [
    "## Categorization"
   ]
  },
  {
   "cell_type": "code",
   "execution_count": 48,
   "metadata": {},
   "outputs": [
    {
     "data": {
      "text/html": [
       "<div>\n",
       "<style scoped>\n",
       "    .dataframe tbody tr th:only-of-type {\n",
       "        vertical-align: middle;\n",
       "    }\n",
       "\n",
       "    .dataframe tbody tr th {\n",
       "        vertical-align: top;\n",
       "    }\n",
       "\n",
       "    .dataframe thead th {\n",
       "        text-align: right;\n",
       "    }\n",
       "</style>\n",
       "<table border=\"1\" class=\"dataframe\">\n",
       "  <thead>\n",
       "    <tr style=\"text-align: right;\">\n",
       "      <th></th>\n",
       "      <th>director_name</th>\n",
       "      <th>num_critic_for_reviews</th>\n",
       "      <th>duration</th>\n",
       "      <th>director_facebook_likes</th>\n",
       "      <th>actor_2_name</th>\n",
       "      <th>gross</th>\n",
       "      <th>actor_1_name</th>\n",
       "      <th>movie_title</th>\n",
       "      <th>num_voted_users</th>\n",
       "      <th>cast_total_facebook_likes</th>\n",
       "      <th>actor_3_name</th>\n",
       "      <th>facenumber_in_poster</th>\n",
       "      <th>num_user_for_reviews</th>\n",
       "      <th>country</th>\n",
       "      <th>content_rating</th>\n",
       "      <th>budget</th>\n",
       "      <th>title_year</th>\n",
       "      <th>imdb_score</th>\n",
       "      <th>movie_facebook_likes</th>\n",
       "      <th>profit</th>\n",
       "    </tr>\n",
       "  </thead>\n",
       "  <tbody>\n",
       "    <tr>\n",
       "      <th>0</th>\n",
       "      <td>James Cameron</td>\n",
       "      <td>723.0</td>\n",
       "      <td>178.0</td>\n",
       "      <td>0.0</td>\n",
       "      <td>Joel David Moore</td>\n",
       "      <td>760505847.0</td>\n",
       "      <td>CCH Pounder</td>\n",
       "      <td>Avatar</td>\n",
       "      <td>886204</td>\n",
       "      <td>4834</td>\n",
       "      <td>Wes Studi</td>\n",
       "      <td>0.0</td>\n",
       "      <td>3054.0</td>\n",
       "      <td>USA</td>\n",
       "      <td>2</td>\n",
       "      <td>237000000.0</td>\n",
       "      <td>2009.0</td>\n",
       "      <td>7.9</td>\n",
       "      <td>33000</td>\n",
       "      <td>523505847.0</td>\n",
       "    </tr>\n",
       "    <tr>\n",
       "      <th>1</th>\n",
       "      <td>Gore Verbinski</td>\n",
       "      <td>302.0</td>\n",
       "      <td>169.0</td>\n",
       "      <td>563.0</td>\n",
       "      <td>Orlando Bloom</td>\n",
       "      <td>309404152.0</td>\n",
       "      <td>Johnny Depp</td>\n",
       "      <td>Pirates of the Caribbean: At World's End</td>\n",
       "      <td>471220</td>\n",
       "      <td>48350</td>\n",
       "      <td>Jack Davenport</td>\n",
       "      <td>0.0</td>\n",
       "      <td>1238.0</td>\n",
       "      <td>USA</td>\n",
       "      <td>2</td>\n",
       "      <td>300000000.0</td>\n",
       "      <td>2007.0</td>\n",
       "      <td>7.1</td>\n",
       "      <td>0</td>\n",
       "      <td>9404152.0</td>\n",
       "    </tr>\n",
       "    <tr>\n",
       "      <th>2</th>\n",
       "      <td>Sam Mendes</td>\n",
       "      <td>602.0</td>\n",
       "      <td>148.0</td>\n",
       "      <td>0.0</td>\n",
       "      <td>Rory Kinnear</td>\n",
       "      <td>200074175.0</td>\n",
       "      <td>Christoph Waltz</td>\n",
       "      <td>Spectre</td>\n",
       "      <td>275868</td>\n",
       "      <td>11700</td>\n",
       "      <td>Stephanie Sigman</td>\n",
       "      <td>1.0</td>\n",
       "      <td>994.0</td>\n",
       "      <td>UK</td>\n",
       "      <td>2</td>\n",
       "      <td>245000000.0</td>\n",
       "      <td>2015.0</td>\n",
       "      <td>6.8</td>\n",
       "      <td>85000</td>\n",
       "      <td>-44925825.0</td>\n",
       "    </tr>\n",
       "    <tr>\n",
       "      <th>3</th>\n",
       "      <td>Christopher Nolan</td>\n",
       "      <td>813.0</td>\n",
       "      <td>164.0</td>\n",
       "      <td>22000.0</td>\n",
       "      <td>Christian Bale</td>\n",
       "      <td>448130642.0</td>\n",
       "      <td>Tom Hardy</td>\n",
       "      <td>The Dark Knight Rises</td>\n",
       "      <td>1144337</td>\n",
       "      <td>106759</td>\n",
       "      <td>Joseph Gordon-Levitt</td>\n",
       "      <td>0.0</td>\n",
       "      <td>2701.0</td>\n",
       "      <td>USA</td>\n",
       "      <td>2</td>\n",
       "      <td>250000000.0</td>\n",
       "      <td>2012.0</td>\n",
       "      <td>8.5</td>\n",
       "      <td>164000</td>\n",
       "      <td>198130642.0</td>\n",
       "    </tr>\n",
       "    <tr>\n",
       "      <th>5</th>\n",
       "      <td>Andrew Stanton</td>\n",
       "      <td>462.0</td>\n",
       "      <td>132.0</td>\n",
       "      <td>475.0</td>\n",
       "      <td>Samantha Morton</td>\n",
       "      <td>73058679.0</td>\n",
       "      <td>Daryl Sabara</td>\n",
       "      <td>John Carter</td>\n",
       "      <td>212204</td>\n",
       "      <td>1873</td>\n",
       "      <td>Polly Walker</td>\n",
       "      <td>1.0</td>\n",
       "      <td>738.0</td>\n",
       "      <td>USA</td>\n",
       "      <td>2</td>\n",
       "      <td>263700000.0</td>\n",
       "      <td>2012.0</td>\n",
       "      <td>6.6</td>\n",
       "      <td>24000</td>\n",
       "      <td>-190641321.0</td>\n",
       "    </tr>\n",
       "  </tbody>\n",
       "</table>\n",
       "</div>"
      ],
      "text/plain": [
       "       director_name  num_critic_for_reviews  duration  \\\n",
       "0      James Cameron                   723.0     178.0   \n",
       "1     Gore Verbinski                   302.0     169.0   \n",
       "2         Sam Mendes                   602.0     148.0   \n",
       "3  Christopher Nolan                   813.0     164.0   \n",
       "5     Andrew Stanton                   462.0     132.0   \n",
       "\n",
       "   director_facebook_likes      actor_2_name        gross     actor_1_name  \\\n",
       "0                      0.0  Joel David Moore  760505847.0      CCH Pounder   \n",
       "1                    563.0     Orlando Bloom  309404152.0      Johnny Depp   \n",
       "2                      0.0      Rory Kinnear  200074175.0  Christoph Waltz   \n",
       "3                  22000.0    Christian Bale  448130642.0        Tom Hardy   \n",
       "5                    475.0   Samantha Morton   73058679.0     Daryl Sabara   \n",
       "\n",
       "                                 movie_title  num_voted_users  \\\n",
       "0                                    Avatar            886204   \n",
       "1  Pirates of the Caribbean: At World's End            471220   \n",
       "2                                   Spectre            275868   \n",
       "3                     The Dark Knight Rises           1144337   \n",
       "5                               John Carter            212204   \n",
       "\n",
       "   cast_total_facebook_likes          actor_3_name  facenumber_in_poster  \\\n",
       "0                       4834             Wes Studi                   0.0   \n",
       "1                      48350        Jack Davenport                   0.0   \n",
       "2                      11700      Stephanie Sigman                   1.0   \n",
       "3                     106759  Joseph Gordon-Levitt                   0.0   \n",
       "5                       1873          Polly Walker                   1.0   \n",
       "\n",
       "   num_user_for_reviews country  content_rating       budget  title_year  \\\n",
       "0                3054.0     USA               2  237000000.0      2009.0   \n",
       "1                1238.0     USA               2  300000000.0      2007.0   \n",
       "2                 994.0      UK               2  245000000.0      2015.0   \n",
       "3                2701.0     USA               2  250000000.0      2012.0   \n",
       "5                 738.0     USA               2  263700000.0      2012.0   \n",
       "\n",
       "   imdb_score  movie_facebook_likes       profit  \n",
       "0         7.9                 33000  523505847.0  \n",
       "1         7.1                     0    9404152.0  \n",
       "2         6.8                 85000  -44925825.0  \n",
       "3         8.5                164000  198130642.0  \n",
       "5         6.6                 24000 -190641321.0  "
      ]
     },
     "execution_count": 48,
     "metadata": {},
     "output_type": "execute_result"
    }
   ],
   "source": [
    "# Reuse a previously cleaned data\n",
    "final = df_corr\n",
    "final.head()"
   ]
  },
  {
   "cell_type": "code",
   "execution_count": 59,
   "metadata": {},
   "outputs": [],
   "source": [
    "# Drop categorical columns\n",
    "final1 = final.drop(['director_name', 'actor_1_name', 'actor_2_name', 'actor_3_name', 'movie_title', 'country'], axis=1)"
   ]
  },
  {
   "cell_type": "code",
   "execution_count": 60,
   "metadata": {},
   "outputs": [
    {
     "name": "stderr",
     "output_type": "stream",
     "text": [
      "C:\\Users\\Aksorn\\Anaconda2\\lib\\site-packages\\ipykernel_launcher.py:3: SettingWithCopyWarning: \n",
      "A value is trying to be set on a copy of a slice from a DataFrame\n",
      "\n",
      "See the caveats in the documentation: http://pandas.pydata.org/pandas-docs/stable/indexing.html#indexing-view-versus-copy\n",
      "  This is separate from the ipykernel package so we can avoid doing imports until\n",
      "C:\\Users\\Aksorn\\Anaconda2\\lib\\site-packages\\ipykernel_launcher.py:4: SettingWithCopyWarning: \n",
      "A value is trying to be set on a copy of a slice from a DataFrame\n",
      "\n",
      "See the caveats in the documentation: http://pandas.pydata.org/pandas-docs/stable/indexing.html#indexing-view-versus-copy\n",
      "  after removing the cwd from sys.path.\n",
      "C:\\Users\\Aksorn\\Anaconda2\\lib\\site-packages\\ipykernel_launcher.py:5: SettingWithCopyWarning: \n",
      "A value is trying to be set on a copy of a slice from a DataFrame\n",
      "\n",
      "See the caveats in the documentation: http://pandas.pydata.org/pandas-docs/stable/indexing.html#indexing-view-versus-copy\n",
      "  \"\"\"\n"
     ]
    }
   ],
   "source": [
    "# Categorize according to IMDB score movies (bad[1], okay[2], good[3], excellent[4])\n",
    "final1['category'] = 1\n",
    "final1['category'][(final1['imdb_score'] >= 4) & (final1['imdb_score'] < 6)] = 2\n",
    "final1['category'][(final1['imdb_score'] >= 6) & (final1['imdb_score'] < 8)] = 3\n",
    "final1['category'][final1['imdb_score'] > 8] = 4"
   ]
  },
  {
   "cell_type": "markdown",
   "metadata": {},
   "source": [
    "### Simple Regression"
   ]
  },
  {
   "cell_type": "code",
   "execution_count": 61,
   "metadata": {},
   "outputs": [],
   "source": [
    "# X & y\n",
    "y = final1['imdb_score']\n",
    "X = final1.drop(['category', 'imdb_score'], axis=1)"
   ]
  },
  {
   "cell_type": "code",
   "execution_count": 62,
   "metadata": {},
   "outputs": [
    {
     "name": "stdout",
     "output_type": "stream",
     "text": [
      "                            OLS Regression Results                            \n",
      "==============================================================================\n",
      "Dep. Variable:             imdb_score   R-squared:                       0.360\n",
      "Model:                            OLS   Adj. R-squared:                  0.358\n",
      "Method:                 Least Squares   F-statistic:                     175.5\n",
      "Date:                Wed, 05 Dec 2018   Prob (F-statistic):               0.00\n",
      "Time:                        22:36:47   Log-Likelihood:                -4696.3\n",
      "No. Observations:                3756   AIC:                             9419.\n",
      "Df Residuals:                    3743   BIC:                             9500.\n",
      "Df Model:                          12                                         \n",
      "Covariance Type:            nonrobust                                         \n",
      "=============================================================================================\n",
      "                                coef    std err          t      P>|t|      [0.025      0.975]\n",
      "---------------------------------------------------------------------------------------------\n",
      "Intercept                    50.5171      3.363     15.021      0.000      43.923      57.111\n",
      "num_critic_for_reviews        0.0026      0.000     13.019      0.000       0.002       0.003\n",
      "duration                      0.0100      0.001     14.724      0.000       0.009       0.011\n",
      "director_facebook_likes    3.056e-06   4.77e-06      0.641      0.522    -6.3e-06    1.24e-05\n",
      "gross                     -2.732e-06   1.82e-07    -15.028      0.000   -3.09e-06   -2.38e-06\n",
      "num_voted_users            3.721e-06   1.74e-07     21.441      0.000    3.38e-06    4.06e-06\n",
      "cast_total_facebook_likes -3.987e-07   7.62e-07     -0.523      0.601   -1.89e-06     1.1e-06\n",
      "facenumber_in_poster         -0.0273      0.007     -3.967      0.000      -0.041      -0.014\n",
      "num_user_for_reviews         -0.0007   5.75e-05    -11.307      0.000      -0.001      -0.001\n",
      "content_rating                0.0826      0.019      4.405      0.000       0.046       0.119\n",
      "budget                      2.73e-06   1.82e-07     15.019      0.000    2.37e-06    3.09e-06\n",
      "title_year                   -0.0229      0.002    -13.636      0.000      -0.026      -0.020\n",
      "movie_facebook_likes      -2.398e-06   9.52e-07     -2.519      0.012   -4.27e-06   -5.32e-07\n",
      "profit                      2.73e-06   1.82e-07     15.019      0.000    2.37e-06    3.09e-06\n",
      "==============================================================================\n",
      "Omnibus:                      489.898   Durbin-Watson:                   1.879\n",
      "Prob(Omnibus):                  0.000   Jarque-Bera (JB):              926.285\n",
      "Skew:                          -0.831   Prob(JB):                    7.24e-202\n",
      "Kurtosis:                       4.776   Cond. No.                     1.52e+16\n",
      "==============================================================================\n",
      "\n",
      "Warnings:\n",
      "[1] Standard Errors assume that the covariance matrix of the errors is correctly specified.\n",
      "[2] The smallest eigenvalue is 1.67e-12. This might indicate that there are\n",
      "strong multicollinearity problems or that the design matrix is singular.\n"
     ]
    }
   ],
   "source": [
    "#model\n",
    "reg_model = ols(\"imdb_score~num_critic_for_reviews+duration+director_facebook_likes+gross+num_voted_users+cast_total_facebook_likes+facenumber_in_poster+num_user_for_reviews+content_rating+budget+title_year+movie_facebook_likes+profit\", final1)\n",
    "reg = reg_model.fit()\n",
    "print reg.summary()"
   ]
  },
  {
   "cell_type": "markdown",
   "metadata": {},
   "source": [
    "### Lasso"
   ]
  },
  {
   "cell_type": "code",
   "execution_count": 63,
   "metadata": {},
   "outputs": [],
   "source": [
    "#Fit model\n",
    "lasso = lm.Lasso(alpha = 0.1)\n",
    "lasso.fit(X, y)\n",
    "lasso_y = lasso.predict(X)"
   ]
  },
  {
   "cell_type": "code",
   "execution_count": 64,
   "metadata": {},
   "outputs": [
    {
     "name": "stdout",
     "output_type": "stream",
     "text": [
      "Coefficients:  [ 2.67258408e-03  9.96332922e-03  3.71891707e-06 -2.09468574e-09\n",
      "  3.76737025e-06 -6.00420875e-07 -2.22431674e-03 -6.10442075e-04\n",
      "  0.00000000e+00 -3.33994097e-10 -2.23375548e-02 -2.67181965e-06\n",
      " -2.94167708e-10]\n",
      "y-intercept  49.627446200551546\n"
     ]
    }
   ],
   "source": [
    "print 'Coefficients: ', lasso.coef_\n",
    "print \"y-intercept \", lasso.intercept_"
   ]
  },
  {
   "cell_type": "code",
   "execution_count": 65,
   "metadata": {},
   "outputs": [
    {
     "data": {
      "text/plain": [
       "[('num_critic_for_reviews', '0.003'),\n",
       " ('duration', '0.010'),\n",
       " ('director_facebook_likes', '0.000'),\n",
       " ('gross', '-0.000'),\n",
       " ('num_voted_users', '0.000'),\n",
       " ('cast_total_facebook_likes', '-0.000'),\n",
       " ('facenumber_in_poster', '-0.002'),\n",
       " ('num_user_for_reviews', '-0.001'),\n",
       " ('content_rating', '0.000'),\n",
       " ('budget', '-0.000'),\n",
       " ('title_year', '-0.022'),\n",
       " ('movie_facebook_likes', '-0.000'),\n",
       " ('profit', '-0.000')]"
      ]
     },
     "execution_count": 65,
     "metadata": {},
     "output_type": "execute_result"
    }
   ],
   "source": [
    "coef = [\"%.3f\" % i for i in lasso.coef_]\n",
    "xcolumns = [ i for i in X.columns ]\n",
    "zip(xcolumns, coef)"
   ]
  },
  {
   "cell_type": "code",
   "execution_count": 66,
   "metadata": {},
   "outputs": [
    {
     "data": {
      "text/html": [
       "<div>\n",
       "<style scoped>\n",
       "    .dataframe tbody tr th:only-of-type {\n",
       "        vertical-align: middle;\n",
       "    }\n",
       "\n",
       "    .dataframe tbody tr th {\n",
       "        vertical-align: top;\n",
       "    }\n",
       "\n",
       "    .dataframe thead th {\n",
       "        text-align: right;\n",
       "    }\n",
       "</style>\n",
       "<table border=\"1\" class=\"dataframe\">\n",
       "  <thead>\n",
       "    <tr style=\"text-align: right;\">\n",
       "      <th></th>\n",
       "      <th>0</th>\n",
       "      <th>1</th>\n",
       "    </tr>\n",
       "  </thead>\n",
       "  <tbody>\n",
       "    <tr>\n",
       "      <th>1</th>\n",
       "      <td>duration</td>\n",
       "      <td>0.010</td>\n",
       "    </tr>\n",
       "    <tr>\n",
       "      <th>0</th>\n",
       "      <td>num_critic_for_reviews</td>\n",
       "      <td>0.003</td>\n",
       "    </tr>\n",
       "    <tr>\n",
       "      <th>2</th>\n",
       "      <td>director_facebook_likes</td>\n",
       "      <td>0.000</td>\n",
       "    </tr>\n",
       "    <tr>\n",
       "      <th>4</th>\n",
       "      <td>num_voted_users</td>\n",
       "      <td>0.000</td>\n",
       "    </tr>\n",
       "    <tr>\n",
       "      <th>8</th>\n",
       "      <td>content_rating</td>\n",
       "      <td>0.000</td>\n",
       "    </tr>\n",
       "    <tr>\n",
       "      <th>10</th>\n",
       "      <td>title_year</td>\n",
       "      <td>-0.022</td>\n",
       "    </tr>\n",
       "    <tr>\n",
       "      <th>6</th>\n",
       "      <td>facenumber_in_poster</td>\n",
       "      <td>-0.002</td>\n",
       "    </tr>\n",
       "    <tr>\n",
       "      <th>7</th>\n",
       "      <td>num_user_for_reviews</td>\n",
       "      <td>-0.001</td>\n",
       "    </tr>\n",
       "    <tr>\n",
       "      <th>3</th>\n",
       "      <td>gross</td>\n",
       "      <td>-0.000</td>\n",
       "    </tr>\n",
       "    <tr>\n",
       "      <th>5</th>\n",
       "      <td>cast_total_facebook_likes</td>\n",
       "      <td>-0.000</td>\n",
       "    </tr>\n",
       "    <tr>\n",
       "      <th>9</th>\n",
       "      <td>budget</td>\n",
       "      <td>-0.000</td>\n",
       "    </tr>\n",
       "    <tr>\n",
       "      <th>11</th>\n",
       "      <td>movie_facebook_likes</td>\n",
       "      <td>-0.000</td>\n",
       "    </tr>\n",
       "    <tr>\n",
       "      <th>12</th>\n",
       "      <td>profit</td>\n",
       "      <td>-0.000</td>\n",
       "    </tr>\n",
       "  </tbody>\n",
       "</table>\n",
       "</div>"
      ],
      "text/plain": [
       "                            0       1\n",
       "1                    duration   0.010\n",
       "0      num_critic_for_reviews   0.003\n",
       "2     director_facebook_likes   0.000\n",
       "4             num_voted_users   0.000\n",
       "8              content_rating   0.000\n",
       "10                 title_year  -0.022\n",
       "6        facenumber_in_poster  -0.002\n",
       "7        num_user_for_reviews  -0.001\n",
       "3                       gross  -0.000\n",
       "5   cast_total_facebook_likes  -0.000\n",
       "9                      budget  -0.000\n",
       "11       movie_facebook_likes  -0.000\n",
       "12                     profit  -0.000"
      ]
     },
     "execution_count": 66,
     "metadata": {},
     "output_type": "execute_result"
    }
   ],
   "source": [
    "a = zip(xcolumns, coef)\n",
    "df = pd.DataFrame(a)\n",
    "df.sort_values(1, ascending=False)"
   ]
  },
  {
   "cell_type": "code",
   "execution_count": 67,
   "metadata": {},
   "outputs": [
    {
     "name": "stdout",
     "output_type": "stream",
     "text": [
      "variance or r-squared:  0.35441925128803764\n"
     ]
    }
   ],
   "source": [
    "print \"variance or r-squared: \", explained_variance_score(y, lasso_y)"
   ]
  },
  {
   "cell_type": "markdown",
   "metadata": {},
   "source": [
    "### F Selection"
   ]
  },
  {
   "cell_type": "code",
   "execution_count": 68,
   "metadata": {},
   "outputs": [
    {
     "data": {
      "text/plain": [
       "array([[7.23000e+02, 1.78000e+02, 8.86204e+05],\n",
       "       [3.02000e+02, 1.69000e+02, 4.71220e+05],\n",
       "       [6.02000e+02, 1.48000e+02, 2.75868e+05],\n",
       "       ...,\n",
       "       [1.43000e+02, 7.70000e+01, 7.26390e+04],\n",
       "       [5.60000e+01, 8.10000e+01, 5.20550e+04],\n",
       "       [4.30000e+01, 9.00000e+01, 4.28500e+03]])"
      ]
     },
     "execution_count": 68,
     "metadata": {},
     "output_type": "execute_result"
    }
   ],
   "source": [
    "# Using f_selection to determine the 3 most important factors\n",
    "X_new = SelectKBest(f_regression, k=3).fit_transform(X, y)\n",
    "X_new"
   ]
  },
  {
   "cell_type": "code",
   "execution_count": 69,
   "metadata": {},
   "outputs": [
    {
     "data": {
      "text/html": [
       "<div>\n",
       "<style scoped>\n",
       "    .dataframe tbody tr th:only-of-type {\n",
       "        vertical-align: middle;\n",
       "    }\n",
       "\n",
       "    .dataframe tbody tr th {\n",
       "        vertical-align: top;\n",
       "    }\n",
       "\n",
       "    .dataframe thead th {\n",
       "        text-align: right;\n",
       "    }\n",
       "</style>\n",
       "<table border=\"1\" class=\"dataframe\">\n",
       "  <thead>\n",
       "    <tr style=\"text-align: right;\">\n",
       "      <th></th>\n",
       "      <th>num_critic_for_reviews</th>\n",
       "      <th>duration</th>\n",
       "      <th>director_facebook_likes</th>\n",
       "      <th>gross</th>\n",
       "      <th>num_voted_users</th>\n",
       "      <th>cast_total_facebook_likes</th>\n",
       "      <th>facenumber_in_poster</th>\n",
       "      <th>num_user_for_reviews</th>\n",
       "      <th>content_rating</th>\n",
       "      <th>budget</th>\n",
       "      <th>title_year</th>\n",
       "      <th>imdb_score</th>\n",
       "      <th>movie_facebook_likes</th>\n",
       "      <th>profit</th>\n",
       "      <th>category</th>\n",
       "    </tr>\n",
       "  </thead>\n",
       "  <tbody>\n",
       "    <tr>\n",
       "      <th>0</th>\n",
       "      <td>723.0</td>\n",
       "      <td>178.0</td>\n",
       "      <td>0.0</td>\n",
       "      <td>760505847.0</td>\n",
       "      <td>886204</td>\n",
       "      <td>4834</td>\n",
       "      <td>0.0</td>\n",
       "      <td>3054.0</td>\n",
       "      <td>2</td>\n",
       "      <td>237000000.0</td>\n",
       "      <td>2009.0</td>\n",
       "      <td>7.9</td>\n",
       "      <td>33000</td>\n",
       "      <td>523505847.0</td>\n",
       "      <td>3</td>\n",
       "    </tr>\n",
       "  </tbody>\n",
       "</table>\n",
       "</div>"
      ],
      "text/plain": [
       "   num_critic_for_reviews  duration  director_facebook_likes        gross  \\\n",
       "0                   723.0     178.0                      0.0  760505847.0   \n",
       "\n",
       "   num_voted_users  cast_total_facebook_likes  facenumber_in_poster  \\\n",
       "0           886204                       4834                   0.0   \n",
       "\n",
       "   num_user_for_reviews  content_rating       budget  title_year  imdb_score  \\\n",
       "0                3054.0               2  237000000.0      2009.0         7.9   \n",
       "\n",
       "   movie_facebook_likes       profit  category  \n",
       "0                 33000  523505847.0         3  "
      ]
     },
     "execution_count": 69,
     "metadata": {},
     "output_type": "execute_result"
    }
   ],
   "source": [
    "final1.head(1)"
   ]
  },
  {
   "cell_type": "code",
   "execution_count": 70,
   "metadata": {},
   "outputs": [
    {
     "name": "stdout",
     "output_type": "stream",
     "text": [
      "r-squared:  0.28384159215010973\n"
     ]
    }
   ],
   "source": [
    "# F Selection \n",
    "# Show the calculated R^2 value of the model\n",
    "f_reg = lm.LinearRegression()\n",
    "f_reg.fit(X_new, y)\n",
    "f_reg_y = f_reg.predict(X_new)\n",
    "\n",
    "print \"r-squared: \", explained_variance_score(y, f_reg_y)"
   ]
  },
  {
   "cell_type": "code",
   "execution_count": 72,
   "metadata": {
    "scrolled": false
   },
   "outputs": [
    {
     "name": "stdout",
     "output_type": "stream",
     "text": [
      "                            OLS Regression Results                            \n",
      "==============================================================================\n",
      "Dep. Variable:             imdb_score   R-squared:                       0.279\n",
      "Model:                            OLS   Adj. R-squared:                  0.279\n",
      "Method:                 Least Squares   F-statistic:                     726.3\n",
      "Date:                Wed, 05 Dec 2018   Prob (F-statistic):          2.34e-267\n",
      "Time:                        22:39:06   Log-Likelihood:                -4920.1\n",
      "No. Observations:                3756   AIC:                             9846.\n",
      "Df Residuals:                    3753   BIC:                             9865.\n",
      "Df Model:                           2                                         \n",
      "Covariance Type:            nonrobust                                         \n",
      "===================================================================================\n",
      "                      coef    std err          t      P>|t|      [0.025      0.975]\n",
      "-----------------------------------------------------------------------------------\n",
      "Intercept           4.9912      0.074     67.202      0.000       4.846       5.137\n",
      "duration            0.0107      0.001     15.525      0.000       0.009       0.012\n",
      "num_voted_users  2.812e-06   1.02e-07     27.466      0.000    2.61e-06    3.01e-06\n",
      "==============================================================================\n",
      "Omnibus:                      539.107   Durbin-Watson:                   1.836\n",
      "Prob(Omnibus):                  0.000   Jarque-Bera (JB):             1015.401\n",
      "Skew:                          -0.904   Prob(JB):                    3.23e-221\n",
      "Kurtosis:                       4.795   Cond. No.                     9.40e+05\n",
      "==============================================================================\n",
      "\n",
      "Warnings:\n",
      "[1] Standard Errors assume that the covariance matrix of the errors is correctly specified.\n",
      "[2] The condition number is large, 9.4e+05. This might indicate that there are\n",
      "strong multicollinearity or other numerical problems.\n"
     ]
    }
   ],
   "source": [
    "f_reg = ols(\"imdb_score~duration+num_voted_users\", final1)\n",
    "f_reg = f_reg.fit()\n",
    "print f_reg.summary()"
   ]
  },
  {
   "cell_type": "markdown",
   "metadata": {},
   "source": [
    "### Recursive Feature Selection"
   ]
  },
  {
   "cell_type": "code",
   "execution_count": 73,
   "metadata": {},
   "outputs": [
    {
     "name": "stdout",
     "output_type": "stream",
     "text": [
      "Features sorted by their rank:\n",
      "[(1, 'content_rating'), (1, 'facenumber_in_poster'), (2, 'duration'), (3, 'title_year'), (4, 'num_critic_for_reviews'), (5, 'num_user_for_reviews'), (6, 'director_facebook_likes'), (7, 'num_voted_users'), (8, 'movie_facebook_likes'), (9, 'cast_total_facebook_likes'), (10, 'gross'), (11, 'budget'), (12, 'profit')]\n"
     ]
    }
   ],
   "source": [
    "lr = lm.LinearRegression()\n",
    "rfe = RFE(lr, n_features_to_select=2)\n",
    "rfe_y = rfe.fit(X,y)\n",
    "\n",
    "print \"Features sorted by their rank:\"\n",
    "print sorted(zip(map(lambda x: x, rfe.ranking_), X.columns))"
   ]
  },
  {
   "cell_type": "markdown",
   "metadata": {},
   "source": [
    "Recursive Feature Selection lists content_rating and face number in poster as the most important"
   ]
  },
  {
   "cell_type": "markdown",
   "metadata": {},
   "source": [
    "### Normalization"
   ]
  },
  {
   "cell_type": "code",
   "execution_count": 74,
   "metadata": {},
   "outputs": [
    {
     "data": {
      "text/plain": [
       "array([[ 7.58494744e-07,  1.86738678e-07,  0.00000000e+00, ...,\n",
       "         2.10762924e-06,  3.46200921e-05,  5.49206686e-01],\n",
       "       [ 7.00585577e-07,  3.92049545e-07,  1.30605854e-06, ...,\n",
       "         4.65587832e-06,  0.00000000e+00,  2.18159379e-02],\n",
       "       [ 1.88426015e-06,  4.63240036e-07,  0.00000000e+00, ...,\n",
       "         6.30695050e-06,  2.66050021e-04, -1.40617843e-01],\n",
       "       ...,\n",
       "       [ 2.38123315e-04,  1.28220247e-04,  4.84572621e-04, ...,\n",
       "         3.33705681e-03,  3.16387622e-02,  6.95653120e-01],\n",
       "       [ 1.94320928e-05,  2.81071342e-05,  0.00000000e+00, ...,\n",
       "         6.91227299e-04,  0.00000000e+00,  7.05773609e-01],\n",
       "       [ 3.58792843e-04,  7.50961764e-04,  1.33504314e-04, ...,\n",
       "         1.67214153e-02,  3.80487294e-03,  7.01915617e-01]])"
      ]
     },
     "execution_count": 74,
     "metadata": {},
     "output_type": "execute_result"
    }
   ],
   "source": [
    "from sklearn.preprocessing import Normalizer\n",
    "\n",
    "y = final1['imdb_score'] \n",
    "X = final1.drop(['imdb_score','category'], axis =1)\n",
    "\n",
    "scaler = Normalizer().fit(X)\n",
    "normalizedX = scaler.transform(X)\n",
    "normalizedX"
   ]
  },
  {
   "cell_type": "code",
   "execution_count": 75,
   "metadata": {},
   "outputs": [
    {
     "name": "stdout",
     "output_type": "stream",
     "text": [
      "Coefficients:  [ 1.70216681e+03  1.87977025e+04 -1.16738045e+01 -2.15914512e-01\n",
      "  3.67615601e+01 -6.26186239e+00 -4.47888392e+04 -5.76857240e+03\n",
      " -8.70828188e+04 -5.44655809e-01 -6.80988723e+02  1.10238796e+01\n",
      "  3.28740845e-01]\n",
      "y-intercept  6.828669386193066\n"
     ]
    }
   ],
   "source": [
    "model = lm.LinearRegression()\n",
    "model.fit(normalizedX, y)\n",
    "model_y = model.predict(normalizedX)\n",
    "print 'Coefficients: ', model.coef_\n",
    "print \"y-intercept \", model.intercept_"
   ]
  },
  {
   "cell_type": "code",
   "execution_count": 76,
   "metadata": {},
   "outputs": [
    {
     "name": "stdout",
     "output_type": "stream",
     "text": [
      "mean square error:  0.9988610386676314\n",
      "0.10444978673425698\n"
     ]
    }
   ],
   "source": [
    "print \"mean square error: \", mean_squared_error(y, model_y)\n",
    "print explained_variance_score(y, model_y)"
   ]
  },
  {
   "cell_type": "code",
   "execution_count": 77,
   "metadata": {},
   "outputs": [
    {
     "data": {
      "image/png": "[encoded data removed]",
      "text/plain": [
       "<Figure size 432x288 with 1 Axes>"
      ]
     },
     "metadata": {},
     "output_type": "display_data"
    }
   ],
   "source": [
    "plt.subplots()\n",
    "plt.scatter(y, model_y)\n",
    "plt.plot([y.min(), y.max()], [y.min(), y.max()], 'k--', lw=4)   #dotted line represents perfect prediction (actual = predicted)\n",
    "plt.xlabel('Actual')\n",
    "plt.ylabel('Predicted')\n",
    "plt.show()"
   ]
  },
  {
   "cell_type": "markdown",
   "metadata": {},
   "source": [
    "Does not accurately predict the outcome of a movie's success"
   ]
  },
  {
   "cell_type": "markdown",
   "metadata": {},
   "source": [
    "### Random Forest Regressor"
   ]
  },
  {
   "cell_type": "code",
   "execution_count": 78,
   "metadata": {},
   "outputs": [
    {
     "name": "stdout",
     "output_type": "stream",
     "text": [
      "mean square error:  0.09625165069222578\n",
      "variance or r-squared:  0.9137135510078213\n"
     ]
    }
   ],
   "source": [
    "from sklearn.ensemble import RandomForestRegressor\n",
    "from sklearn.datasets import make_regression\n",
    "\n",
    "#X and Y variables\n",
    "y = final1['imdb_score'] \n",
    "X = final1.drop(['imdb_score','category'], axis =1)\n",
    "\n",
    "regr = RandomForestRegressor(random_state=0)\n",
    "regr.fit(X, y)\n",
    "regr_predicted = regr.predict(X)\n",
    "\n",
    "print \"mean square error: \", mean_squared_error(y, regr_predicted)\n",
    "print \"variance or r-squared: \", explained_variance_score(y, regr_predicted)"
   ]
  },
  {
   "cell_type": "code",
   "execution_count": 79,
   "metadata": {},
   "outputs": [
    {
     "data": {
      "text/plain": [
       "[(0.01810428933122047, 'facenumber_in_poster'),\n",
       " (0.021885581358237646, 'content_rating'),\n",
       " (0.033426625438065835, 'movie_facebook_likes'),\n",
       " (0.03841854679841375, 'director_facebook_likes'),\n",
       " (0.04020932707176314, 'profit'),\n",
       " (0.04190816496290684, 'title_year'),\n",
       " (0.0541601719904309, 'cast_total_facebook_likes'),\n",
       " (0.0548744761958256, 'num_critic_for_reviews'),\n",
       " (0.06156492208719139, 'gross'),\n",
       " (0.0759548032765498, 'num_user_for_reviews'),\n",
       " (0.11324915368308638, 'budget'),\n",
       " (0.11930584350619614, 'duration'),\n",
       " (0.32693809430011206, 'num_voted_users')]"
      ]
     },
     "execution_count": 79,
     "metadata": {},
     "output_type": "execute_result"
    }
   ],
   "source": [
    "sorted(zip(regr.feature_importances_, X.columns))"
   ]
  },
  {
   "cell_type": "markdown",
   "metadata": {},
   "source": [
    "### Decision Tree"
   ]
  },
  {
   "cell_type": "code",
   "execution_count": 80,
   "metadata": {},
   "outputs": [],
   "source": [
    "# X variables and y variable\n",
    "y = final1['category'] \n",
    "X = final1.drop(['imdb_score','category'], axis =1)"
   ]
  },
  {
   "cell_type": "code",
   "execution_count": 81,
   "metadata": {},
   "outputs": [
    {
     "data": {
      "text/plain": [
       "DecisionTreeClassifier(class_weight=None, criterion='gini', max_depth=None,\n",
       "            max_features=None, max_leaf_nodes=None,\n",
       "            min_impurity_decrease=0.0, min_impurity_split=None,\n",
       "            min_samples_leaf=1, min_samples_split=2,\n",
       "            min_weight_fraction_leaf=0.0, presort=False, random_state=None,\n",
       "            splitter='best')"
      ]
     },
     "execution_count": 81,
     "metadata": {},
     "output_type": "execute_result"
    }
   ],
   "source": [
    "# split validation\n",
    "X_train, X_test, y_train, y_test = train_test_split(X, y, test_size=0.3, random_state=0)\n",
    "\n",
    "# Initialize DecisionTreeClassifier()\n",
    "dt = DecisionTreeClassifier()\n",
    "\n",
    "# Train a decision tree model\n",
    "dt.fit(X_train, y_train)"
   ]
  },
  {
   "cell_type": "code",
   "execution_count": 82,
   "metadata": {},
   "outputs": [
    {
     "name": "stdout",
     "output_type": "stream",
     "text": [
      "2629 2629\n",
      "1127 1127\n"
     ]
    }
   ],
   "source": [
    "print len(X_train), len(y_train)\n",
    "print len(X_test), len(y_test)"
   ]
  },
  {
   "cell_type": "code",
   "execution_count": 83,
   "metadata": {
    "scrolled": true
   },
   "outputs": [
    {
     "name": "stdout",
     "output_type": "stream",
     "text": [
      "0.686779059449867\n",
      "--------------------------------------------------------\n",
      "[[  8  12  23   2]\n",
      " [ 15 156 119   0]\n",
      " [ 19 124 578  19]\n",
      " [  5   1  14  32]]\n",
      "--------------------------------------------------------\n",
      "             precision    recall  f1-score   support\n",
      "\n",
      "          1       0.17      0.18      0.17        45\n",
      "          2       0.53      0.54      0.54       290\n",
      "          3       0.79      0.78      0.78       740\n",
      "          4       0.60      0.62      0.61        52\n",
      "\n",
      "avg / total       0.69      0.69      0.69      1127\n",
      "\n",
      "--------------------------------------------------------\n"
     ]
    }
   ],
   "source": [
    "print metrics.accuracy_score(y_test, dt.predict(X_test))\n",
    "print \"--------------------------------------------------------\"\n",
    "print metrics.confusion_matrix(y_test, dt.predict(X_test)) \n",
    "print \"--------------------------------------------------------\"\n",
    "print metrics.classification_report(y_test, dt.predict(X_test))\n",
    "print \"--------------------------------------------------------\""
   ]
  },
  {
   "cell_type": "code",
   "execution_count": 84,
   "metadata": {},
   "outputs": [
    {
     "data": {
      "image/png": "[encoded data removed]",
      "text/plain": [
       "<Figure size 432x288 with 2 Axes>"
      ]
     },
     "metadata": {},
     "output_type": "display_data"
    }
   ],
   "source": [
    "import scikitplot as skplt\n",
    "\n",
    "skplt.metrics.plot_confusion_matrix(y_true=np.array(y_test), y_pred=dt.predict(X_test))\n",
    "plt.show()"
   ]
  },
  {
   "cell_type": "markdown",
   "metadata": {},
   "source": [
    "### Simple Decision Tree"
   ]
  },
  {
   "cell_type": "code",
   "execution_count": 85,
   "metadata": {},
   "outputs": [
    {
     "data": {
      "text/plain": [
       "DecisionTreeClassifier(class_weight=None, criterion='gini', max_depth=3,\n",
       "            max_features=None, max_leaf_nodes=None,\n",
       "            min_impurity_decrease=0.0, min_impurity_split=None,\n",
       "            min_samples_leaf=5, min_samples_split=2,\n",
       "            min_weight_fraction_leaf=0.0, presort=False, random_state=None,\n",
       "            splitter='best')"
      ]
     },
     "execution_count": 85,
     "metadata": {},
     "output_type": "execute_result"
    }
   ],
   "source": [
    "# split validation\n",
    "X_train, X_test, y_train, y_test = train_test_split(X, y, test_size=0.3, random_state=0)\n",
    "\n",
    "# # Build a decision model with max_depth=3 and min_samples_leaf=5\n",
    "dt_simple = DecisionTreeClassifier(max_depth=3, min_samples_leaf=5)\n",
    "dt_simple.fit(X_train, y_train)"
   ]
  },
  {
   "cell_type": "code",
   "execution_count": 86,
   "metadata": {
    "scrolled": true
   },
   "outputs": [
    {
     "name": "stdout",
     "output_type": "stream",
     "text": [
      "0.6885536823425022\n",
      "--------------------------------------------------------\n",
      "[[  0  17  27   1]\n",
      " [  0 128 162   0]\n",
      " [  0 108 623   9]\n",
      " [  0   0  27  25]]\n",
      "--------------------------------------------------------\n",
      "             precision    recall  f1-score   support\n",
      "\n",
      "          1       0.00      0.00      0.00        45\n",
      "          2       0.51      0.44      0.47       290\n",
      "          3       0.74      0.84      0.79       740\n",
      "          4       0.71      0.48      0.57        52\n",
      "\n",
      "avg / total       0.65      0.69      0.67      1127\n",
      "\n",
      "--------------------------------------------------------\n"
     ]
    },
    {
     "name": "stderr",
     "output_type": "stream",
     "text": [
      "C:\\Users\\Aksorn\\Anaconda2\\lib\\site-packages\\sklearn\\metrics\\classification.py:1135: UndefinedMetricWarning: Precision and F-score are ill-defined and being set to 0.0 in labels with no predicted samples.\n",
      "  'precision', 'predicted', average, warn_for)\n"
     ]
    }
   ],
   "source": [
    "print metrics.accuracy_score(y_test, dt_simple.predict(X_test))\n",
    "print \"--------------------------------------------------------\"\n",
    "print metrics.confusion_matrix(y_test, dt_simple.predict(X_test)) \n",
    "print \"--------------------------------------------------------\"\n",
    "print metrics.classification_report(y_test, dt_simple.predict(X_test))\n",
    "print \"--------------------------------------------------------\""
   ]
  },
  {
   "cell_type": "code",
   "execution_count": 87,
   "metadata": {},
   "outputs": [
    {
     "data": {
      "image/png": "[encoded data removed]",
      "text/plain": [
       "<Figure size 432x288 with 2 Axes>"
      ]
     },
     "metadata": {},
     "output_type": "display_data"
    }
   ],
   "source": [
    "skplt.metrics.plot_confusion_matrix(y_true=np.array(y_test), y_pred=dt_simple.predict(X_test))\n",
    "plt.show()"
   ]
  },
  {
   "cell_type": "markdown",
   "metadata": {},
   "source": [
    "### KNN"
   ]
  },
  {
   "cell_type": "code",
   "execution_count": 88,
   "metadata": {},
   "outputs": [],
   "source": [
    "# declare X variables and y variable\n",
    "y = final1['category'] \n",
    "X = final1.drop(['imdb_score','category'], axis =1)"
   ]
  },
  {
   "cell_type": "code",
   "execution_count": 89,
   "metadata": {},
   "outputs": [
    {
     "data": {
      "text/plain": [
       "KNeighborsClassifier(algorithm='auto', leaf_size=30, metric='minkowski',\n",
       "           metric_params=None, n_jobs=1, n_neighbors=5, p=2,\n",
       "           weights='uniform')"
      ]
     },
     "execution_count": 89,
     "metadata": {},
     "output_type": "execute_result"
    }
   ],
   "source": [
    "# evaluate the model \n",
    "X_train, X_test, y_train, y_test = train_test_split(X, y, test_size=0.3, random_state=0)\n",
    "\n",
    "# initialize KNeighborsClassifier() and train a KNN Model\n",
    "knn = KNeighborsClassifier()\n",
    "knn.fit(X_train, y_train)\n"
   ]
  },
  {
   "cell_type": "code",
   "execution_count": 90,
   "metadata": {
    "scrolled": true
   },
   "outputs": [
    {
     "name": "stdout",
     "output_type": "stream",
     "text": [
      "0.6007098491570542\n",
      "--------------------------------------------------------\n",
      "[[  0  11  34   0]\n",
      " [  1  75 214   0]\n",
      " [  7 132 599   2]\n",
      " [  0   5  44   3]]\n",
      "--------------------------------------------------------\n",
      "             precision    recall  f1-score   support\n",
      "\n",
      "          1       0.00      0.00      0.00        45\n",
      "          2       0.34      0.26      0.29       290\n",
      "          3       0.67      0.81      0.73       740\n",
      "          4       0.60      0.06      0.11        52\n",
      "\n",
      "avg / total       0.56      0.60      0.56      1127\n",
      "\n",
      "--------------------------------------------------------\n"
     ]
    }
   ],
   "source": [
    "print metrics.accuracy_score(y_test, knn.predict(X_test))\n",
    "print \"--------------------------------------------------------\"\n",
    "print metrics.confusion_matrix(y_test, knn.predict(X_test)) \n",
    "print \"--------------------------------------------------------\"\n",
    "print metrics.classification_report(y_test, knn.predict(X_test))\n",
    "print \"--------------------------------------------------------\""
   ]
  },
  {
   "cell_type": "code",
   "execution_count": 91,
   "metadata": {},
   "outputs": [
    {
     "name": "stdout",
     "output_type": "stream",
     "text": [
      "[0.55851064 0.49468085 0.53191489 0.52393617 0.5212766  0.40159574\n",
      " 0.3962766  0.42287234 0.456      0.67828418]\n",
      "0.49853480120928645\n"
     ]
    }
   ],
   "source": [
    "# evaluate the knn model \n",
    "scores = cross_val_score(knn, X, y, scoring='accuracy', cv=10)\n",
    "print scores\n",
    "print scores.mean()"
   ]
  },
  {
   "cell_type": "code",
   "execution_count": 92,
   "metadata": {},
   "outputs": [
    {
     "name": "stderr",
     "output_type": "stream",
     "text": [
      "C:\\Users\\Aksorn\\Anaconda2\\lib\\site-packages\\sklearn\\cross_validation.py:41: DeprecationWarning: This module was deprecated in version 0.18 in favor of the model_selection module into which all the refactored classes and functions are moved. Also note that the interface of the new CV iterators are different from that of this module. This module will be removed in 0.20.\n",
      "  \"This module will be removed in 0.20.\", DeprecationWarning)\n",
      "C:\\Users\\Aksorn\\Anaconda2\\lib\\site-packages\\sklearn\\grid_search.py:42: DeprecationWarning: This module was deprecated in version 0.18 in favor of the model_selection module into which all the refactored classes and functions are moved. This module will be removed in 0.20.\n",
      "  DeprecationWarning)\n"
     ]
    },
    {
     "data": {
      "image/png": "[encoded data removed]",
      "text/plain": [
       "<Figure size 432x288 with 1 Axes>"
      ]
     },
     "metadata": {},
     "output_type": "display_data"
    }
   ],
   "source": [
    "#search for an optimal value of K\n",
    "from sklearn.grid_search import GridSearchCV\n",
    "\n",
    "knn = KNeighborsClassifier()\n",
    "k_range = range(1, 10)\n",
    "param_grid = dict(n_neighbors=k_range)\n",
    "grid = GridSearchCV(knn, param_grid, cv=10, scoring='accuracy')\n",
    "grid.fit(X, y)\n",
    "\n",
    "#check the results\n",
    "grid.grid_scores_\n",
    "grid_mean_scores = [result[1] for result in grid.grid_scores_]\n",
    "plt.figure()\n",
    "plt.plot(k_range, grid_mean_scores)\n",
    "plt.show()"
   ]
  },
  {
   "cell_type": "code",
   "execution_count": 93,
   "metadata": {},
   "outputs": [
    {
     "name": "stdout",
     "output_type": "stream",
     "text": [
      "0.536474973376\n",
      "{'n_neighbors': 9}\n",
      "KNeighborsClassifier(algorithm='auto', leaf_size=30, metric='minkowski',\n",
      "           metric_params=None, n_jobs=1, n_neighbors=9, p=2,\n",
      "           weights='uniform')\n"
     ]
    }
   ],
   "source": [
    "print grid.best_score_\n",
    "print grid.best_params_\n",
    "print grid.best_estimator_"
   ]
  },
  {
   "cell_type": "code",
   "execution_count": 95,
   "metadata": {},
   "outputs": [
    {
     "data": {
      "text/plain": [
       "KNeighborsClassifier(algorithm='auto', leaf_size=30, metric='minkowski',\n",
       "           metric_params=None, n_jobs=1, n_neighbors=8, p=2,\n",
       "           weights='uniform')"
      ]
     },
     "execution_count": 95,
     "metadata": {},
     "output_type": "execute_result"
    }
   ],
   "source": [
    "#new knn model with k = 8\n",
    "X_train, X_test, y_train, y_test = train_test_split(X, y, test_size=0.3, random_state=0)\n",
    "knn = KNeighborsClassifier(n_neighbors=8)\n",
    "knn.fit(X_train, y_train)"
   ]
  },
  {
   "cell_type": "code",
   "execution_count": 96,
   "metadata": {
    "scrolled": true
   },
   "outputs": [
    {
     "name": "stdout",
     "output_type": "stream",
     "text": [
      "0.6069210292812778\n",
      "[[  0  11  34   0]\n",
      " [  0  63 227   0]\n",
      " [  0 119 620   1]\n",
      " [  0   3  48   1]]\n",
      "             precision    recall  f1-score   support\n",
      "\n",
      "          1       0.00      0.00      0.00        45\n",
      "          2       0.32      0.22      0.26       290\n",
      "          3       0.67      0.84      0.74       740\n",
      "          4       0.50      0.02      0.04        52\n",
      "\n",
      "avg / total       0.54      0.61      0.56      1127\n",
      "\n"
     ]
    },
    {
     "name": "stderr",
     "output_type": "stream",
     "text": [
      "C:\\Users\\Aksorn\\Anaconda2\\lib\\site-packages\\sklearn\\metrics\\classification.py:1135: UndefinedMetricWarning: Precision and F-score are ill-defined and being set to 0.0 in labels with no predicted samples.\n",
      "  'precision', 'predicted', average, warn_for)\n"
     ]
    }
   ],
   "source": [
    "#Model evaluation without valdation\n",
    "print metrics.accuracy_score(y_test, knn.predict(X_test))\n",
    "print metrics.confusion_matrix(y_test, knn.predict(X_test))\n",
    "print metrics.classification_report(y_test, knn.predict(X_test))"
   ]
  },
  {
   "cell_type": "markdown",
   "metadata": {},
   "source": [
    "KNN uses 8 variables, has a variance of 0.61 when categorizing movies."
   ]
  },
  {
   "cell_type": "markdown",
   "metadata": {},
   "source": [
    "### Random Forest"
   ]
  },
  {
   "cell_type": "code",
   "execution_count": 97,
   "metadata": {},
   "outputs": [
    {
     "data": {
      "text/plain": [
       "0.7630878438331854"
      ]
     },
     "execution_count": 97,
     "metadata": {},
     "output_type": "execute_result"
    }
   ],
   "source": [
    "from sklearn.ensemble import RandomForestClassifier\n",
    "\n",
    "clf = RandomForestClassifier(n_estimators=500)    #building 500 decision trees\n",
    "clf=clf.fit(X_train, y_train)\n",
    "clf.score(X_test, y_test)"
   ]
  },
  {
   "cell_type": "code",
   "execution_count": 98,
   "metadata": {},
   "outputs": [
    {
     "name": "stdout",
     "output_type": "stream",
     "text": [
      "0.7630878438331854\n",
      "[[  2  17  25   1]\n",
      " [  0 143 147   0]\n",
      " [  0  47 690   3]\n",
      " [  0   0  27  25]]\n",
      "             precision    recall  f1-score   support\n",
      "\n",
      "          1       1.00      0.04      0.09        45\n",
      "          2       0.69      0.49      0.58       290\n",
      "          3       0.78      0.93      0.85       740\n",
      "          4       0.86      0.48      0.62        52\n",
      "\n",
      "avg / total       0.77      0.76      0.74      1127\n",
      "\n"
     ]
    }
   ],
   "source": [
    "# generate evaluation metrics\n",
    "print metrics.accuracy_score(y_test, clf.predict(X_test)) #overall accuracy\n",
    "print metrics.confusion_matrix(y_test, clf.predict(X_test))\n",
    "print metrics.classification_report(y_test, clf.predict(X_test))"
   ]
  },
  {
   "cell_type": "code",
   "execution_count": 99,
   "metadata": {},
   "outputs": [
    {
     "data": {
      "text/html": [
       "<div>\n",
       "<style scoped>\n",
       "    .dataframe tbody tr th:only-of-type {\n",
       "        vertical-align: middle;\n",
       "    }\n",
       "\n",
       "    .dataframe tbody tr th {\n",
       "        vertical-align: top;\n",
       "    }\n",
       "\n",
       "    .dataframe thead th {\n",
       "        text-align: right;\n",
       "    }\n",
       "</style>\n",
       "<table border=\"1\" class=\"dataframe\">\n",
       "  <thead>\n",
       "    <tr style=\"text-align: right;\">\n",
       "      <th></th>\n",
       "      <th>feature</th>\n",
       "      <th>importance</th>\n",
       "    </tr>\n",
       "  </thead>\n",
       "  <tbody>\n",
       "    <tr>\n",
       "      <th>4</th>\n",
       "      <td>num_voted_users</td>\n",
       "      <td>0.154704</td>\n",
       "    </tr>\n",
       "    <tr>\n",
       "      <th>1</th>\n",
       "      <td>duration</td>\n",
       "      <td>0.114568</td>\n",
       "    </tr>\n",
       "    <tr>\n",
       "      <th>3</th>\n",
       "      <td>gross</td>\n",
       "      <td>0.090385</td>\n",
       "    </tr>\n",
       "    <tr>\n",
       "      <th>7</th>\n",
       "      <td>num_user_for_reviews</td>\n",
       "      <td>0.086129</td>\n",
       "    </tr>\n",
       "    <tr>\n",
       "      <th>9</th>\n",
       "      <td>budget</td>\n",
       "      <td>0.078135</td>\n",
       "    </tr>\n",
       "    <tr>\n",
       "      <th>0</th>\n",
       "      <td>num_critic_for_reviews</td>\n",
       "      <td>0.077726</td>\n",
       "    </tr>\n",
       "    <tr>\n",
       "      <th>12</th>\n",
       "      <td>profit</td>\n",
       "      <td>0.076022</td>\n",
       "    </tr>\n",
       "    <tr>\n",
       "      <th>5</th>\n",
       "      <td>cast_total_facebook_likes</td>\n",
       "      <td>0.073233</td>\n",
       "    </tr>\n",
       "    <tr>\n",
       "      <th>10</th>\n",
       "      <td>title_year</td>\n",
       "      <td>0.066848</td>\n",
       "    </tr>\n",
       "    <tr>\n",
       "      <th>2</th>\n",
       "      <td>director_facebook_likes</td>\n",
       "      <td>0.064345</td>\n",
       "    </tr>\n",
       "    <tr>\n",
       "      <th>11</th>\n",
       "      <td>movie_facebook_likes</td>\n",
       "      <td>0.059403</td>\n",
       "    </tr>\n",
       "    <tr>\n",
       "      <th>6</th>\n",
       "      <td>facenumber_in_poster</td>\n",
       "      <td>0.031311</td>\n",
       "    </tr>\n",
       "    <tr>\n",
       "      <th>8</th>\n",
       "      <td>content_rating</td>\n",
       "      <td>0.027191</td>\n",
       "    </tr>\n",
       "  </tbody>\n",
       "</table>\n",
       "</div>"
      ],
      "text/plain": [
       "                      feature  importance\n",
       "4             num_voted_users    0.154704\n",
       "1                    duration    0.114568\n",
       "3                       gross    0.090385\n",
       "7        num_user_for_reviews    0.086129\n",
       "9                      budget    0.078135\n",
       "0      num_critic_for_reviews    0.077726\n",
       "12                     profit    0.076022\n",
       "5   cast_total_facebook_likes    0.073233\n",
       "10                 title_year    0.066848\n",
       "2     director_facebook_likes    0.064345\n",
       "11       movie_facebook_likes    0.059403\n",
       "6        facenumber_in_poster    0.031311\n",
       "8              content_rating    0.027191"
      ]
     },
     "execution_count": 99,
     "metadata": {},
     "output_type": "execute_result"
    }
   ],
   "source": [
    "pd.DataFrame({'feature':X.columns, 'importance':clf.feature_importances_}).\\\n",
    "                                                    sort_values('importance',ascending=False)"
   ]
  },
  {
   "cell_type": "code",
   "execution_count": 100,
   "metadata": {},
   "outputs": [
    {
     "data": {
      "text/html": [
       "<div>\n",
       "<style scoped>\n",
       "    .dataframe tbody tr th:only-of-type {\n",
       "        vertical-align: middle;\n",
       "    }\n",
       "\n",
       "    .dataframe tbody tr th {\n",
       "        vertical-align: top;\n",
       "    }\n",
       "\n",
       "    .dataframe thead th {\n",
       "        text-align: right;\n",
       "    }\n",
       "</style>\n",
       "<table border=\"1\" class=\"dataframe\">\n",
       "  <thead>\n",
       "    <tr style=\"text-align: right;\">\n",
       "      <th></th>\n",
       "      <th>prob of BAD</th>\n",
       "      <th>prob of OKAY</th>\n",
       "      <th>prob of GOOD</th>\n",
       "      <th>prob of EXCELLENT</th>\n",
       "    </tr>\n",
       "  </thead>\n",
       "  <tbody>\n",
       "    <tr>\n",
       "      <th>0</th>\n",
       "      <td>0.004</td>\n",
       "      <td>0.244</td>\n",
       "      <td>0.752</td>\n",
       "      <td>0.000</td>\n",
       "    </tr>\n",
       "    <tr>\n",
       "      <th>1</th>\n",
       "      <td>0.024</td>\n",
       "      <td>0.786</td>\n",
       "      <td>0.190</td>\n",
       "      <td>0.000</td>\n",
       "    </tr>\n",
       "    <tr>\n",
       "      <th>2</th>\n",
       "      <td>0.006</td>\n",
       "      <td>0.362</td>\n",
       "      <td>0.632</td>\n",
       "      <td>0.000</td>\n",
       "    </tr>\n",
       "    <tr>\n",
       "      <th>3</th>\n",
       "      <td>0.058</td>\n",
       "      <td>0.440</td>\n",
       "      <td>0.500</td>\n",
       "      <td>0.002</td>\n",
       "    </tr>\n",
       "    <tr>\n",
       "      <th>4</th>\n",
       "      <td>0.014</td>\n",
       "      <td>0.052</td>\n",
       "      <td>0.778</td>\n",
       "      <td>0.156</td>\n",
       "    </tr>\n",
       "  </tbody>\n",
       "</table>\n",
       "</div>"
      ],
      "text/plain": [
       "   prob of BAD  prob of OKAY  prob of GOOD  prob of EXCELLENT\n",
       "0        0.004         0.244         0.752              0.000\n",
       "1        0.024         0.786         0.190              0.000\n",
       "2        0.006         0.362         0.632              0.000\n",
       "3        0.058         0.440         0.500              0.002\n",
       "4        0.014         0.052         0.778              0.156"
      ]
     },
     "execution_count": 100,
     "metadata": {},
     "output_type": "execute_result"
    }
   ],
   "source": [
    "probs = clf.predict_proba(X_test)\n",
    "probs = pd.DataFrame(probs, columns=['prob of BAD', 'prob of OKAY', 'prob of GOOD', 'prob of EXCELLENT'])\n",
    "probs.head()"
   ]
  },
  {
   "cell_type": "markdown",
   "metadata": {},
   "source": [
    "After 500 itereations, the Random Forest model is accurate at 0.792"
   ]
  },
  {
   "cell_type": "markdown",
   "metadata": {},
   "source": [
    "## Clustering"
   ]
  },
  {
   "cell_type": "code",
   "execution_count": 102,
   "metadata": {},
   "outputs": [
    {
     "data": {
      "text/html": [
       "<div>\n",
       "<style scoped>\n",
       "    .dataframe tbody tr th:only-of-type {\n",
       "        vertical-align: middle;\n",
       "    }\n",
       "\n",
       "    .dataframe tbody tr th {\n",
       "        vertical-align: top;\n",
       "    }\n",
       "\n",
       "    .dataframe thead th {\n",
       "        text-align: right;\n",
       "    }\n",
       "</style>\n",
       "<table border=\"1\" class=\"dataframe\">\n",
       "  <thead>\n",
       "    <tr style=\"text-align: right;\">\n",
       "      <th></th>\n",
       "      <th>duration</th>\n",
       "      <th>num_voted_users</th>\n",
       "    </tr>\n",
       "  </thead>\n",
       "  <tbody>\n",
       "    <tr>\n",
       "      <th>0</th>\n",
       "      <td>178.0</td>\n",
       "      <td>886204</td>\n",
       "    </tr>\n",
       "    <tr>\n",
       "      <th>1</th>\n",
       "      <td>169.0</td>\n",
       "      <td>471220</td>\n",
       "    </tr>\n",
       "    <tr>\n",
       "      <th>2</th>\n",
       "      <td>148.0</td>\n",
       "      <td>275868</td>\n",
       "    </tr>\n",
       "    <tr>\n",
       "      <th>3</th>\n",
       "      <td>164.0</td>\n",
       "      <td>1144337</td>\n",
       "    </tr>\n",
       "    <tr>\n",
       "      <th>5</th>\n",
       "      <td>132.0</td>\n",
       "      <td>212204</td>\n",
       "    </tr>\n",
       "  </tbody>\n",
       "</table>\n",
       "</div>"
      ],
      "text/plain": [
       "   duration  num_voted_users\n",
       "0     178.0           886204\n",
       "1     169.0           471220\n",
       "2     148.0           275868\n",
       "3     164.0          1144337\n",
       "5     132.0           212204"
      ]
     },
     "execution_count": 102,
     "metadata": {},
     "output_type": "execute_result"
    }
   ],
   "source": [
    "cluster = final1.drop(['num_critic_for_reviews','director_facebook_likes','gross','cast_total_facebook_likes','facenumber_in_poster','num_user_for_reviews','content_rating','budget','title_year','imdb_score','movie_facebook_likes','profit','category'], axis = 1)\n",
    "cluster.head()"
   ]
  },
  {
   "cell_type": "code",
   "execution_count": 103,
   "metadata": {},
   "outputs": [
    {
     "data": {
      "text/html": [
       "<div>\n",
       "<style scoped>\n",
       "    .dataframe tbody tr th:only-of-type {\n",
       "        vertical-align: middle;\n",
       "    }\n",
       "\n",
       "    .dataframe tbody tr th {\n",
       "        vertical-align: top;\n",
       "    }\n",
       "\n",
       "    .dataframe thead th {\n",
       "        text-align: right;\n",
       "    }\n",
       "</style>\n",
       "<table border=\"1\" class=\"dataframe\">\n",
       "  <thead>\n",
       "    <tr style=\"text-align: right;\">\n",
       "      <th></th>\n",
       "      <th>duration</th>\n",
       "      <th>num_voted_users</th>\n",
       "    </tr>\n",
       "  </thead>\n",
       "  <tbody>\n",
       "    <tr>\n",
       "      <th>0</th>\n",
       "      <td>0.231201</td>\n",
       "      <td>0.461851</td>\n",
       "    </tr>\n",
       "    <tr>\n",
       "      <th>1</th>\n",
       "      <td>0.200485</td>\n",
       "      <td>0.216251</td>\n",
       "    </tr>\n",
       "    <tr>\n",
       "      <th>2</th>\n",
       "      <td>0.128812</td>\n",
       "      <td>0.100636</td>\n",
       "    </tr>\n",
       "    <tr>\n",
       "      <th>3</th>\n",
       "      <td>0.183420</td>\n",
       "      <td>0.614622</td>\n",
       "    </tr>\n",
       "    <tr>\n",
       "      <th>5</th>\n",
       "      <td>0.074205</td>\n",
       "      <td>0.062957</td>\n",
       "    </tr>\n",
       "  </tbody>\n",
       "</table>\n",
       "</div>"
      ],
      "text/plain": [
       "   duration  num_voted_users\n",
       "0  0.231201         0.461851\n",
       "1  0.200485         0.216251\n",
       "2  0.128812         0.100636\n",
       "3  0.183420         0.614622\n",
       "5  0.074205         0.062957"
      ]
     },
     "execution_count": 103,
     "metadata": {},
     "output_type": "execute_result"
    }
   ],
   "source": [
    "# Normalize data\n",
    "norm = (cluster - cluster.mean()) / (cluster.max() - cluster.min())\n",
    "norm.head()"
   ]
  },
  {
   "cell_type": "code",
   "execution_count": 104,
   "metadata": {},
   "outputs": [
    {
     "data": {
      "text/plain": [
       "KMeans(algorithm='auto', copy_x=True, init='k-means++', max_iter=300,\n",
       "    n_clusters=4, n_init=10, n_jobs=1, precompute_distances='auto',\n",
       "    random_state=0, tol=0.0001, verbose=0)"
      ]
     },
     "execution_count": 104,
     "metadata": {},
     "output_type": "execute_result"
    }
   ],
   "source": [
    "k_means = KMeans(init='k-means++', n_clusters=4, random_state=0)\n",
    "k_means.fit(norm)"
   ]
  },
  {
   "cell_type": "code",
   "execution_count": 105,
   "metadata": {},
   "outputs": [
    {
     "data": {
      "text/plain": [
       "array([3, 1, 1, ..., 0, 0, 0])"
      ]
     },
     "execution_count": 105,
     "metadata": {},
     "output_type": "execute_result"
    }
   ],
   "source": [
    "k_means.labels_"
   ]
  },
  {
   "cell_type": "code",
   "execution_count": 106,
   "metadata": {},
   "outputs": [
    {
     "data": {
      "text/html": [
       "<div>\n",
       "<style scoped>\n",
       "    .dataframe tbody tr th:only-of-type {\n",
       "        vertical-align: middle;\n",
       "    }\n",
       "\n",
       "    .dataframe tbody tr th {\n",
       "        vertical-align: top;\n",
       "    }\n",
       "\n",
       "    .dataframe thead th {\n",
       "        text-align: right;\n",
       "    }\n",
       "</style>\n",
       "<table border=\"1\" class=\"dataframe\">\n",
       "  <thead>\n",
       "    <tr style=\"text-align: right;\">\n",
       "      <th></th>\n",
       "      <th>cluster</th>\n",
       "    </tr>\n",
       "  </thead>\n",
       "  <tbody>\n",
       "    <tr>\n",
       "      <th>0</th>\n",
       "      <td>3</td>\n",
       "    </tr>\n",
       "    <tr>\n",
       "      <th>1</th>\n",
       "      <td>1</td>\n",
       "    </tr>\n",
       "    <tr>\n",
       "      <th>2</th>\n",
       "      <td>1</td>\n",
       "    </tr>\n",
       "    <tr>\n",
       "      <th>3</th>\n",
       "      <td>3</td>\n",
       "    </tr>\n",
       "    <tr>\n",
       "      <th>4</th>\n",
       "      <td>2</td>\n",
       "    </tr>\n",
       "  </tbody>\n",
       "</table>\n",
       "</div>"
      ],
      "text/plain": [
       "   cluster\n",
       "0        3\n",
       "1        1\n",
       "2        1\n",
       "3        3\n",
       "4        2"
      ]
     },
     "execution_count": 106,
     "metadata": {},
     "output_type": "execute_result"
    }
   ],
   "source": [
    "cluster2 = pd.DataFrame(k_means.labels_, columns = ['cluster'])\n",
    "cluster2.head()"
   ]
  },
  {
   "cell_type": "code",
   "execution_count": 107,
   "metadata": {},
   "outputs": [
    {
     "data": {
      "text/html": [
       "<div>\n",
       "<style scoped>\n",
       "    .dataframe tbody tr th:only-of-type {\n",
       "        vertical-align: middle;\n",
       "    }\n",
       "\n",
       "    .dataframe tbody tr th {\n",
       "        vertical-align: top;\n",
       "    }\n",
       "\n",
       "    .dataframe thead th {\n",
       "        text-align: right;\n",
       "    }\n",
       "</style>\n",
       "<table border=\"1\" class=\"dataframe\">\n",
       "  <thead>\n",
       "    <tr style=\"text-align: right;\">\n",
       "      <th></th>\n",
       "      <th>duration</th>\n",
       "      <th>num_voted_users</th>\n",
       "      <th>cluster</th>\n",
       "    </tr>\n",
       "  </thead>\n",
       "  <tbody>\n",
       "    <tr>\n",
       "      <th>0</th>\n",
       "      <td>0.231201</td>\n",
       "      <td>0.461851</td>\n",
       "      <td>3.0</td>\n",
       "    </tr>\n",
       "    <tr>\n",
       "      <th>1</th>\n",
       "      <td>0.200485</td>\n",
       "      <td>0.216251</td>\n",
       "      <td>1.0</td>\n",
       "    </tr>\n",
       "    <tr>\n",
       "      <th>2</th>\n",
       "      <td>0.128812</td>\n",
       "      <td>0.100636</td>\n",
       "      <td>1.0</td>\n",
       "    </tr>\n",
       "    <tr>\n",
       "      <th>3</th>\n",
       "      <td>0.183420</td>\n",
       "      <td>0.614622</td>\n",
       "      <td>3.0</td>\n",
       "    </tr>\n",
       "    <tr>\n",
       "      <th>5</th>\n",
       "      <td>0.074205</td>\n",
       "      <td>0.062957</td>\n",
       "      <td>1.0</td>\n",
       "    </tr>\n",
       "  </tbody>\n",
       "</table>\n",
       "</div>"
      ],
      "text/plain": [
       "   duration  num_voted_users  cluster\n",
       "0  0.231201         0.461851      3.0\n",
       "1  0.200485         0.216251      1.0\n",
       "2  0.128812         0.100636      1.0\n",
       "3  0.183420         0.614622      3.0\n",
       "5  0.074205         0.062957      1.0"
      ]
     },
     "execution_count": 107,
     "metadata": {},
     "output_type": "execute_result"
    }
   ],
   "source": [
    "cluster3 = norm.join(cluster2)\n",
    "cluster3.head()"
   ]
  },
  {
   "cell_type": "code",
   "execution_count": 108,
   "metadata": {},
   "outputs": [
    {
     "data": {
      "text/html": [
       "<div>\n",
       "<style scoped>\n",
       "    .dataframe tbody tr th:only-of-type {\n",
       "        vertical-align: middle;\n",
       "    }\n",
       "\n",
       "    .dataframe tbody tr th {\n",
       "        vertical-align: top;\n",
       "    }\n",
       "\n",
       "    .dataframe thead th {\n",
       "        text-align: right;\n",
       "    }\n",
       "</style>\n",
       "<table border=\"1\" class=\"dataframe\">\n",
       "  <thead>\n",
       "    <tr style=\"text-align: right;\">\n",
       "      <th></th>\n",
       "      <th>duration</th>\n",
       "      <th>num_voted_users</th>\n",
       "    </tr>\n",
       "    <tr>\n",
       "      <th>cluster</th>\n",
       "      <th></th>\n",
       "      <th></th>\n",
       "    </tr>\n",
       "  </thead>\n",
       "  <tbody>\n",
       "    <tr>\n",
       "      <th>0.0</th>\n",
       "      <td>-0.000143</td>\n",
       "      <td>-0.003078</td>\n",
       "    </tr>\n",
       "    <tr>\n",
       "      <th>1.0</th>\n",
       "      <td>0.028339</td>\n",
       "      <td>0.039872</td>\n",
       "    </tr>\n",
       "    <tr>\n",
       "      <th>2.0</th>\n",
       "      <td>0.006374</td>\n",
       "      <td>0.008193</td>\n",
       "    </tr>\n",
       "    <tr>\n",
       "      <th>3.0</th>\n",
       "      <td>0.068541</td>\n",
       "      <td>0.071113</td>\n",
       "    </tr>\n",
       "  </tbody>\n",
       "</table>\n",
       "</div>"
      ],
      "text/plain": [
       "         duration  num_voted_users\n",
       "cluster                           \n",
       "0.0     -0.000143        -0.003078\n",
       "1.0      0.028339         0.039872\n",
       "2.0      0.006374         0.008193\n",
       "3.0      0.068541         0.071113"
      ]
     },
     "execution_count": 108,
     "metadata": {},
     "output_type": "execute_result"
    }
   ],
   "source": [
    "cluster3.groupby(['cluster']).mean() "
   ]
  },
  {
   "cell_type": "markdown",
   "metadata": {},
   "source": [
    "- Cluster 0 has a short duration and low number of user votes\n",
    "- Cluster 1 has a long duration and high number of user votes\n",
    "- Cluster 2 has a medium duration and medium number of user votes\n",
    "- Cluster 3 has a medium duration and low number of user votes"
   ]
  },
  {
   "cell_type": "code",
   "execution_count": 109,
   "metadata": {},
   "outputs": [
    {
     "data": {
      "text/html": [
       "<div>\n",
       "<style scoped>\n",
       "    .dataframe tbody tr th:only-of-type {\n",
       "        vertical-align: middle;\n",
       "    }\n",
       "\n",
       "    .dataframe tbody tr th {\n",
       "        vertical-align: top;\n",
       "    }\n",
       "\n",
       "    .dataframe thead th {\n",
       "        text-align: right;\n",
       "    }\n",
       "</style>\n",
       "<table border=\"1\" class=\"dataframe\">\n",
       "  <thead>\n",
       "    <tr style=\"text-align: right;\">\n",
       "      <th></th>\n",
       "      <th>duration</th>\n",
       "      <th>num_voted_users</th>\n",
       "      <th>cluster</th>\n",
       "    </tr>\n",
       "  </thead>\n",
       "  <tbody>\n",
       "    <tr>\n",
       "      <th>0</th>\n",
       "      <td>178.0</td>\n",
       "      <td>886204</td>\n",
       "      <td>3.0</td>\n",
       "    </tr>\n",
       "    <tr>\n",
       "      <th>1</th>\n",
       "      <td>169.0</td>\n",
       "      <td>471220</td>\n",
       "      <td>1.0</td>\n",
       "    </tr>\n",
       "    <tr>\n",
       "      <th>2</th>\n",
       "      <td>148.0</td>\n",
       "      <td>275868</td>\n",
       "      <td>1.0</td>\n",
       "    </tr>\n",
       "    <tr>\n",
       "      <th>3</th>\n",
       "      <td>164.0</td>\n",
       "      <td>1144337</td>\n",
       "      <td>3.0</td>\n",
       "    </tr>\n",
       "    <tr>\n",
       "      <th>5</th>\n",
       "      <td>132.0</td>\n",
       "      <td>212204</td>\n",
       "      <td>1.0</td>\n",
       "    </tr>\n",
       "  </tbody>\n",
       "</table>\n",
       "</div>"
      ],
      "text/plain": [
       "   duration  num_voted_users  cluster\n",
       "0     178.0           886204      3.0\n",
       "1     169.0           471220      1.0\n",
       "2     148.0           275868      1.0\n",
       "3     164.0          1144337      3.0\n",
       "5     132.0           212204      1.0"
      ]
     },
     "execution_count": 109,
     "metadata": {},
     "output_type": "execute_result"
    }
   ],
   "source": [
    "cluster4 = cluster.join(cluster2)\n",
    "cluster4.head()"
   ]
  },
  {
   "cell_type": "code",
   "execution_count": 110,
   "metadata": {
    "scrolled": true
   },
   "outputs": [
    {
     "data": {
      "text/plain": [
       "cluster\n",
       "0.0    2100\n",
       "1.0     358\n",
       "2.0     708\n",
       "3.0      47\n",
       "dtype: int64"
      ]
     },
     "execution_count": 110,
     "metadata": {},
     "output_type": "execute_result"
    }
   ],
   "source": [
    "cluster4.groupby('cluster').size()"
   ]
  },
  {
   "cell_type": "markdown",
   "metadata": {},
   "source": [
    "- Cluster 1 has 2100 movies\n",
    "- Cluster 2 has 358 movies\n",
    "- Cluster 3 has 708 movies\n",
    "- Cluster 4 has 47 movies"
   ]
  },
  {
   "cell_type": "code",
   "execution_count": 112,
   "metadata": {
    "scrolled": false
   },
   "outputs": [
    {
     "data": {
      "text/plain": [
       "<seaborn.axisgrid.FacetGrid at 0x165e26d8>"
      ]
     },
     "execution_count": 112,
     "metadata": {},
     "output_type": "execute_result"
    },
    {
     "data": {
      "image/png": "[encoded data removed]",
      "text/plain": [
       "<Figure size 360x360 with 1 Axes>"
      ]
     },
     "metadata": {},
     "output_type": "display_data"
    },
    {
     "data": {
      "image/png": "[encoded data removed]",
      "text/plain": [
       "<Figure size 360x360 with 1 Axes>"
      ]
     },
     "metadata": {},
     "output_type": "display_data"
    }
   ],
   "source": [
    "sns.lmplot(\"cluster\", \"duration\", cluster4, x_jitter=.15, y_jitter=.15)\n",
    "sns.lmplot(\"cluster\", \"num_voted_users\", cluster4, x_jitter=.15, y_jitter=.15)"
   ]
  },
  {
   "cell_type": "code",
   "execution_count": 115,
   "metadata": {
    "scrolled": true
   },
   "outputs": [
    {
     "data": {
      "image/png": "[encoded data removed]",
      "text/plain": [
       "<Figure size 432x288 with 1 Axes>"
      ]
     },
     "metadata": {},
     "output_type": "display_data"
    }
   ],
   "source": [
    "from mpl_toolkits.mplot3d import Axes3D\n",
    "\n",
    "fig = plt.figure()\n",
    "ax = fig.add_subplot(111, projection='3d')\n",
    "\n",
    "x = cluster4['duration']\n",
    "y = cluster4['num_voted_users']\n",
    "colors = cluster4['cluster']\n",
    "\n",
    "ax.scatter(x, y, c=colors, marker='o')\n",
    "ax.set_xlabel('Duration')\n",
    "ax.set_ylabel('Number of Voted Users')\n",
    "\n",
    "plt.show()"
   ]
  },
  {
   "cell_type": "markdown",
   "metadata": {},
   "source": [
    "### Optimal K value (Elbow Method)"
   ]
  },
  {
   "cell_type": "code",
   "execution_count": 116,
   "metadata": {
    "scrolled": true
   },
   "outputs": [
    {
     "data": {
      "text/plain": [
       "<matplotlib.axes._subplots.AxesSubplot at 0x19f2fd68>"
      ]
     },
     "execution_count": 116,
     "metadata": {},
     "output_type": "execute_result"
    },
    {
     "data": {
      "image/png": "[encoded data removed]",
      "text/plain": [
       "<Figure size 432x288 with 2 Axes>"
      ]
     },
     "metadata": {},
     "output_type": "display_data"
    }
   ],
   "source": [
    "import scikitplot as skplt\n",
    "\n",
    "kmeans = KMeans(random_state=1) \n",
    "skplt.cluster.plot_elbow_curve(kmeans, norm, cluster_ranges=range(1, 10))"
   ]
  },
  {
   "cell_type": "markdown",
   "metadata": {},
   "source": [
    "## Storytelling\n",
    "\n",
    "- Overall, duration and the number of voters were the most important factors in predicting a movie's success.\n",
    "- The Random Forest model with 500 iterations of predicting is 79.2% effective placing a movie in the right category."
   ]
  }
 ],
 "metadata": {
  "kernelspec": {
   "display_name": "Python 2",
   "language": "python",
   "name": "python2"
  },
  "language_info": {
   "codemirror_mode": {
    "name": "ipython",
    "version": 2
   },
   "file_extension": ".py",
   "mimetype": "text/x-python",
   "name": "python",
   "nbconvert_exporter": "python",
   "pygments_lexer": "ipython2",
   "version": "2.7.15"
  }
 },
 "nbformat": 4,
 "nbformat_minor": 2
}
